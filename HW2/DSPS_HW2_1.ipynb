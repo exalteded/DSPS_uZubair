{
 "cells": [
  {
   "cell_type": "markdown",
   "metadata": {
    "ExecuteTime": {
     "end_time": "2019-09-04T04:50:01.872913Z",
     "start_time": "2019-09-04T04:50:01.869703Z"
    }
   },
   "source": [
    " Written by Federica B. Bianco @fedhere\n",
    "UDel DSPS 2019"
   ]
  },
  {
   "cell_type": "code",
   "execution_count": 1,
   "metadata": {
    "ExecuteTime": {
     "end_time": "2019-09-07T17:36:53.625807Z",
     "start_time": "2019-09-07T17:36:53.393906Z"
    },
    "colab": {
     "base_uri": "https://localhost:8080/",
     "height": 34
    },
    "colab_type": "code",
    "id": "iQaonMUBqtX2",
    "outputId": "c3142aad-73ad-4312-fd32-65cbb6683cb6"
   },
   "outputs": [
    {
     "name": "stdout",
     "output_type": "stream",
     "text": [
      "Populating the interactive namespace from numpy and matplotlib\n"
     ]
    }
   ],
   "source": [
    "from __future__ import print_function, division\n",
    "import numpy as np\n",
    "import scipy as sp\n",
    "from scipy import stats\n",
    "import pylab as pl\n",
    "%pylab inline\n",
    "pl.style.use(\"https://raw.githubusercontent.com/fedhere/DSPS/master/fbb.mplstyle\")"
   ]
  },
  {
   "cell_type": "markdown",
   "metadata": {
    "colab_type": "text",
    "id": "zu5QKDi5b7vW"
   },
   "source": [
    "# Homework 1: Maxwell Boltzmann distribution"
   ]
  },
  {
   "cell_type": "markdown",
   "metadata": {
    "colab_type": "text",
    "id": "ueaB0mHCO_iM"
   },
   "source": [
    "In Physics, statistics can help us describe the macroscopic behavior of a system if we know its microscopic properties in a statistical sense. We cannot know the motion of each molecule in a gas, but we can know the distribution of their velocities and positions.   In the mid to late 1800s, James Clerk Maxwell and Ludwig Boltzmann modeled the *distribution of speed of molecules in a gas*. As you probably know, and can intuitive realize, the speed of the molecules depends on the temperature of the gas, which is a macroscopic property, i.e. the velocity of the molecules is different for different gas temperatures. **This distribution is called the Maxwell-Boltzmann distribution.**\n"
   ]
  },
  {
   "cell_type": "markdown",
   "metadata": {
    "colab_type": "text",
    "id": "7LpR51uQSvN9"
   },
   "source": [
    "It turns out that the Maxwel-Boltzmann distribution is a special case of the *Chi distribution* with 3 degrees of freedom, and with a scale parameter corresponding to the temperature in some way. "
   ]
  },
  {
   "cell_type": "markdown",
   "metadata": {
    "colab_type": "text",
    "id": "Pc25lN9SUxQL"
   },
   "source": [
    "Below I have created 3 distributions. Based on the description above\n",
    "\n",
    "\n",
    "# 1) label the axis in the plot, "
   ]
  },
  {
   "cell_type": "code",
   "execution_count": 3,
   "metadata": {
    "ExecuteTime": {
     "end_time": "2019-09-07T17:36:56.493299Z",
     "start_time": "2019-09-07T17:36:56.021862Z"
    },
    "colab": {
     "base_uri": "https://localhost:8080/",
     "height": 267
    },
    "colab_type": "code",
    "id": "LZm2afzhUwuG",
    "outputId": "ed876def-2d5c-407f-813b-b052d3cd57ee"
   },
   "outputs": [
    {
     "data": {
      "image/png": "[encoded data removed]",
      "text/plain": [
       "<Figure size 432x288 with 1 Axes>"
      ]
     },
     "metadata": {
      "needs_background": "light"
     },
     "output_type": "display_data"
    }
   ],
   "source": [
    "np.random.randn(123)\n",
    "fig, ax = pl.subplots()\n",
    "for a in [0.2, 0.6, 1.0]:\n",
    "    ax.hist(sp.stats.chi.rvs(df=3, scale=a, size=1000), # could as well be sp.stats.maxwell.rvs(scale=a, size=1000)\n",
    "          bins=np.arange(0,5,0.1), alpha=0.7,\n",
    "       label=\"a = %.1f\"%a);\n",
    "\n",
    "pl.legend();\n",
    "ax.set_xlabel('$v$ (speed)', fontsize=15)\n",
    "ax.set_ylabel('No. of molecules per unit speed interval', fontsize=13)\n",
    "pl.show()\n",
    "# your code here"
   ]
  },
  {
   "cell_type": "markdown",
   "metadata": {
    "colab_type": "text",
    "id": "MGdILsLAaopl"
   },
   "source": [
    "# 2) knowing that the *scale* parameter $a$  is a function of the temperature  *T*, and that the dependency is to a power 1/2, which is correct: \n",
    "   **$a \\propto \\sqrt{T}$**  or **$a \\propto \\sqrt{1/T}$**? \n",
    " "
   ]
  },
  {
   "cell_type": "markdown",
   "metadata": {
    "colab_type": "text",
    "id": "vMGhorbvcrFM"
   },
   "source": [
    "Answer: $a \\propto \\sqrt{T}$"
   ]
  },
  {
   "cell_type": "markdown",
   "metadata": {
    "colab_type": "text",
    "id": "hGeeXYttXLO1"
   },
   "source": [
    "\n",
    "# 3) What is the mean of all three distributions. How does it compare to the most probable molecular speed? \n",
    "From the wikipedia page of the Chi distribution find the formula of the mean of the Chi distribution. The distribution we are using has a scale parameter *a* in addition to the number of degrees of freedom. The mean scales linearly with this parameter:\n",
    "\n",
    "$\\mu_{\\mathrm{MB}, k, a} = a \\cdot \\mu_{\\mathrm{chi}, k}$\n",
    "\n",
    "Using the scipy function ```sp.special.gamma()```  calculate the gamma $\\Gamma$ function,\n",
    "\n",
    "**calculate the mean of all three distributions. How does it compare to the most probable molecular speed.**"
   ]
  },
  {
   "cell_type": "code",
   "execution_count": 4,
   "metadata": {
    "ExecuteTime": {
     "end_time": "2019-09-07T17:36:59.245480Z",
     "start_time": "2019-09-07T17:36:59.243338Z"
    },
    "colab": {},
    "colab_type": "code",
    "id": "-8htAA4mRAVa"
   },
   "outputs": [
    {
     "name": "stdout",
     "output_type": "stream",
     "text": [
      "Mean of Distribution a = 0.2 is 0.31915382432114625\n",
      "Mean of Distribution a = 0.6 is 0.9574614729634385\n",
      "Mean of Distribution a = 1.0 is 1.595769121605731\n"
     ]
    }
   ],
   "source": [
    "# your code here\n",
    "def mu_chi(k):\n",
    "    # mean of chi distribution\n",
    "    return np.sqrt(2) * sp.special.gamma((k + 1) / 2) / sp.special.gamma(k/2)\n",
    "\n",
    "def mu_MB(a, mu_chi):\n",
    "    # mean of maxwell distribution\n",
    "    return a*mu_chi\n",
    "\n",
    "a = np.array([0.2, 0.6, 1.0])\n",
    "MeanOfDistribution = mu_MB(a, mu_chi(3))\n",
    "for i in range(len(a)):\n",
    "#     print (i)\n",
    "    print ('Mean of Distribution a = {0} is {1}'.format(a[i], MeanOfDistribution[i]))"
   ]
  },
  {
   "cell_type": "markdown",
   "metadata": {
    "colab_type": "text",
    "id": "r7oes80EQER-"
   },
   "source": [
    "This really only holds for perfect gasses, which means under 4 assumptions: \n",
    "- the diameter of the molecules is much smaller than the distance between them\n",
    "- the collisions between molecules conserve energy\n",
    "- the molecules do not interact between collisions and are not subject to any other forces (move at constant speed in a straight line)\n",
    "- the initial position and velocity are random."
   ]
  },
  {
   "cell_type": "markdown",
   "metadata": {
    "colab_type": "text",
    "id": "3PJ9hjLzQjyA"
   },
   "source": [
    "# Extra Credit:\n",
    "\n",
    "can you create a python (2D) simulation where the molecules behave as describe and calculate their speed evolution from an initial speed that is gaussian distributed? (rather hard!!)\n"
   ]
  },
  {
   "cell_type": "code",
   "execution_count": null,
   "metadata": {
    "ExecuteTime": {
     "end_time": "2019-09-07T17:37:01.623460Z",
     "start_time": "2019-09-07T17:37:01.621218Z"
    },
    "colab": {},
    "colab_type": "code",
    "id": "6LJU9GPVRO7B"
   },
   "outputs": [],
   "source": []
  },
  {
   "cell_type": "code",
   "execution_count": null,
   "metadata": {},
   "outputs": [],
   "source": []
  }
 ],
 "metadata": {
  "colab": {
   "collapsed_sections": [],
   "name": "DSPS_HW2_1",
   "provenance": [],
   "version": "0.3.2"
  },
  "kernelspec": {
   "display_name": "Python 3",
   "language": "python",
   "name": "python3"
  },
  "language_info": {
   "codemirror_mode": {
    "name": "ipython",
    "version": 3
   },
   "file_extension": ".py",
   "mimetype": "text/x-python",
   "name": "python",
   "nbconvert_exporter": "python",
   "pygments_lexer": "ipython3",
   "version": "3.7.3"
  },
  "latex_envs": {
   "LaTeX_envs_menu_present": true,
   "autoclose": false,
   "autocomplete": true,
   "bibliofile": "biblio.bib",
   "cite_by": "apalike",
   "current_citInitial": 1,
   "eqLabelWithNumbers": true,
   "eqNumInitial": 1,
   "hotkeys": {
    "equation": "Ctrl-E",
    "itemize": "Ctrl-I"
   },
   "labels_anchors": false,
   "latex_user_defs": false,
   "report_style_numbering": false,
   "user_envs_cfg": false
  },
  "nbTranslate": {
   "displayLangs": [
    "*"
   ],
   "hotkey": "alt-t",
   "langInMainMenu": true,
   "sourceLang": "en",
   "targetLang": "fr",
   "useGoogleTranslate": true
  },
  "toc": {
   "base_numbering": 1,
   "nav_menu": {},
   "number_sections": true,
   "sideBar": true,
   "skip_h1_title": false,
   "title_cell": "Table of Contents",
   "title_sidebar": "Contents",
   "toc_cell": false,
   "toc_position": {},
   "toc_section_display": true,
   "toc_window_display": false
  }
 },
 "nbformat": 4,
 "nbformat_minor": 1
}
