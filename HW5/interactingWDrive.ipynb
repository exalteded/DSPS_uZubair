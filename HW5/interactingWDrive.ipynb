{
  "nbformat": 4,
  "nbformat_minor": 0,
  "metadata": {
    "colab": {
      "name": "interactingWDrive.ipynb",
      "provenance": [],
      "collapsed_sections": []
    },
    "kernelspec": {
      "name": "python3",
      "display_name": "Python 3"
    }
  },
  "cells": [
    {
      "cell_type": "markdown",
      "metadata": {
        "id": "view-in-github",
        "colab_type": "text"
      },
      "source": [
        "<a href=\"https://colab.research.google.com/github/fedhere/DSPS/blob/master/HW5/interactingWDrive.ipynb\" target=\"_parent\"><img src=\"https://colab.research.google.com/assets/colab-badge.svg\" alt=\"Open In Colab\"/></a>"
      ]
    },
    {
      "cell_type": "markdown",
      "metadata": {
        "id": "nrn7kPcZRdjY",
        "colab_type": "text"
      },
      "source": [
        "# Review the operations below to interact with your drive and complete the final task"
      ]
    },
    {
      "cell_type": "markdown",
      "metadata": {
        "id": "2R3CZcH2CpDE",
        "colab_type": "text"
      },
      "source": [
        "### Integrating Colaboratory with Google Drive"
      ]
    },
    {
      "cell_type": "markdown",
      "metadata": {
        "id": "rx6E_qY6Cs42",
        "colab_type": "text"
      },
      "source": [
        "If we are going to be grabbing data from the internet for use with colaboratory, we'll need to use our google drive"
      ]
    },
    {
      "cell_type": "code",
      "metadata": {
        "id": "A8QyYZxL0RX0",
        "colab_type": "code",
        "colab": {}
      },
      "source": [
        "import numpy as np\n",
        "import os\n",
        "import glob"
      ],
      "execution_count": 0,
      "outputs": []
    },
    {
      "cell_type": "code",
      "metadata": {
        "id": "4q6UFssL5jyx",
        "colab_type": "code",
        "outputId": "b64a1849-65f5-4d55-b50e-38ca90cb0092",
        "colab": {
          "base_uri": "https://localhost:8080/",
          "height": 122
        }
      },
      "source": [
        "from google.colab import drive\n",
        "drive.mount(\"/content/drive\")"
      ],
      "execution_count": 3,
      "outputs": [
        {
          "output_type": "stream",
          "text": [
            "Go to this URL in a browser: https://accounts.google.com/o/oauth2/auth?client_id=947318989803-6bn6qk8qdgf4n4g3pfee6491hc0brc4i.apps.googleusercontent.com&redirect_uri=urn%3Aietf%3Awg%3Aoauth%3A2.0%3Aoob&scope=email%20https%3A%2F%2Fwww.googleapis.com%2Fauth%2Fdocs.test%20https%3A%2F%2Fwww.googleapis.com%2Fauth%2Fdrive%20https%3A%2F%2Fwww.googleapis.com%2Fauth%2Fdrive.photos.readonly%20https%3A%2F%2Fwww.googleapis.com%2Fauth%2Fpeopleapi.readonly&response_type=code\n",
            "\n",
            "Enter your authorization code:\n",
            "··········\n",
            "Mounted at /content/drive\n"
          ],
          "name": "stdout"
        }
      ]
    },
    {
      "cell_type": "markdown",
      "metadata": {
        "id": "9tHaFZxd6ghX",
        "colab_type": "text"
      },
      "source": [
        "### The unix terminal\n",
        "\n",
        "Unix is one of the oldest and most barebones Operating Systems (OS), but it serves as the platform for more advanced OSs like Mac OS and some modes of Windows.\n",
        "\n",
        "Unix and unix-based OSs like Mac OS, have a powerful utility called the \"Terminal\", that allows for a \"command line interface\" for interacting with your computer (Windows has something similar, but the syntax is different).\n",
        "\n",
        "Jupyter allows us to run some of these commands **as if we were in a terminal**:"
      ]
    },
    {
      "cell_type": "markdown",
      "metadata": {
        "id": "f1fFc1AJgJ16",
        "colab_type": "text"
      },
      "source": [
        "```ls``` lists the content of the directory you are in"
      ]
    },
    {
      "cell_type": "code",
      "metadata": {
        "id": "tbtlTGcv64xI",
        "colab_type": "code",
        "outputId": "d1700590-f202-4d6a-be5d-9cd0baf2f69f",
        "colab": {
          "base_uri": "https://localhost:8080/",
          "height": 34
        }
      },
      "source": [
        "ls"
      ],
      "execution_count": 51,
      "outputs": [
        {
          "output_type": "stream",
          "text": [
            "\u001b[0m\u001b[01;34mdrive\u001b[0m/  \u001b[01;34msample_data\u001b[0m/  zbp16totals.zip\n"
          ],
          "name": "stdout"
        }
      ]
    },
    {
      "cell_type": "markdown",
      "metadata": {
        "id": "EcwyVKKhqxy6",
        "colab_type": "text"
      },
      "source": [
        "```pwd```  stants for present working directory and telss you which dir. you are in"
      ]
    },
    {
      "cell_type": "code",
      "metadata": {
        "id": "sdXEW_i7GhoG",
        "colab_type": "code",
        "outputId": "abe65c97-039d-443b-e08c-01ac6d6d6efe",
        "colab": {
          "base_uri": "https://localhost:8080/",
          "height": 34
        }
      },
      "source": [
        "pwd"
      ],
      "execution_count": 52,
      "outputs": [
        {
          "output_type": "execute_result",
          "data": {
            "text/plain": [
              "'/content'"
            ]
          },
          "metadata": {
            "tags": []
          },
          "execution_count": 52
        }
      ]
    },
    {
      "cell_type": "markdown",
      "metadata": {
        "id": "Mgnac-c6rIRr",
        "colab_type": "text"
      },
      "source": [
        "```ls``` with an argument lists the content of the directory path indicated by the argument "
      ]
    },
    {
      "cell_type": "code",
      "metadata": {
        "id": "-KAOhizC68Yv",
        "colab_type": "code",
        "outputId": "5697ad27-ae01-4cab-d6cd-17b9904adb5a",
        "colab": {
          "base_uri": "https://localhost:8080/",
          "height": 612
        }
      },
      "source": [
        "ls \"drive/My Drive\""
      ],
      "execution_count": 5,
      "outputs": [
        {
          "output_type": "stream",
          "text": [
            "'601 Mini Lab Report.gdoc'\n",
            "'Aera comparison.gslides'\n",
            " \u001b[0m\u001b[01;34mcodes\u001b[0m/\n",
            "\u001b[01;34m'Colab Notebooks'\u001b[0m/\n",
            "'Copy of Installing Corsika v7.7 on Cobalt.gdoc'\n",
            "'Copy of SF-ENP-6.gdoc'\n",
            "'Coreas simulation for 1 PeV proton.gslides'\n",
            " corsika-76900.tar.gz\n",
            " \u001b[01;34mdata\u001b[0m/\n",
            " \u001b[01;34mdsps2019\u001b[0m/\n",
            " GalrotCurve.ipynb\n",
            " gaussian_fit.ipynb\n",
            "'Getting started.pdf'\n",
            " hf_prob1.ipynb\n",
            "'i-9-paper-version (1).pdf'\n",
            "'icetop radio.gslides'\n",
            " KS_earthquakes.ipynb\n",
            "'Lab 9.pdf'\n",
            "'New Document(2).pdf'\n",
            " quiz41.pdf\n",
            " quiz42.pdf\n",
            " quizpot.gslides\n",
            " \u001b[01;34mResearch\u001b[0m/\n",
            " SF-ENP-6.docx\n",
            " SF-ENP-6.gdoc\n",
            " SKM_55819092609270.pdf\n",
            " studentsheet030.gsheet\n",
            " studentsheet031.gsheet\n",
            " \u001b[01;34mtest_dit\u001b[0m/\n",
            "'Untitled document (1).gdoc'\n",
            "'Untitled document (2).gdoc'\n",
            "'Untitled document.gdoc'\n",
            "'Untitled presentation.gslides'\n",
            "'Untitled spreadsheet (1).gsheet'\n",
            "'Untitled spreadsheet.gsheet'\n"
          ],
          "name": "stdout"
        }
      ]
    },
    {
      "cell_type": "markdown",
      "metadata": {
        "id": "O4unVfVs6_2t",
        "colab_type": "text"
      },
      "source": [
        "Some of the most common and useful are:\n",
        "* ls - list the files in the current directory\n",
        "* cp - copy one file to another\n",
        "* cd - change the directory\n",
        "* mv - rename (move) a file\n",
        "* mkdir - make a directory\n",
        "* rm - delete a file\n",
        "* rmdir - delete an empty directory\n",
        "\n",
        "Bear in mind **these are <u>not</u> python commands**, but jupyter understands them.  Here are some examples that\n",
        "\n",
        "1. list the files in your google drive\n",
        "2. make a directory, test_dir, in your Google Drive\n",
        "3. copy a file from google drive, renaming it\n",
        "4. moving that copy into test_dir\n",
        "5. deleting the file from test_dit\n",
        "6. deleting the test_dir directory\n",
        "7. changing directories to your google drive\n",
        "8. listing the files there\n",
        "9. identifying your current working directory\n",
        "10. getting back to your colaboratory home directory\n"
      ]
    },
    {
      "cell_type": "markdown",
      "metadata": {
        "id": "ko2OLRhwreLc",
        "colab_type": "text"
      },
      "source": [
        "Make a new directory (folder)"
      ]
    },
    {
      "cell_type": "code",
      "metadata": {
        "id": "nc3PxtkeQhhI",
        "colab_type": "code",
        "colab": {}
      },
      "source": [
        "mkdir \"drive/My Drive/test_dir\""
      ],
      "execution_count": 0,
      "outputs": []
    },
    {
      "cell_type": "code",
      "metadata": {
        "id": "tGR3o3rTulg-",
        "colab_type": "code",
        "outputId": "594a936a-3706-412b-f3f8-647e5aa19247",
        "colab": {
          "base_uri": "https://localhost:8080/",
          "height": 646
        }
      },
      "source": [
        "ls -ltr \"drive/My Drive\" #-ltr prints the permissions on each file and sorts the files by date last opened/modified"
      ],
      "execution_count": 7,
      "outputs": [
        {
          "output_type": "stream",
          "text": [
            "total 168501\n",
            "-rw------- 1 root root    696774 Apr 19  2018 'Getting started.pdf'\n",
            "-rw------- 1 root root     74494 Jul  4  2018 'i-9-paper-version (1).pdf'\n",
            "-rw------- 1 root root    377338 Oct 30  2018  SF-ENP-6.docx\n",
            "-rw------- 1 root root       151 Oct 30  2018  SF-ENP-6.gdoc\n",
            "-rw------- 1 root root       151 Oct 30  2018 'Copy of SF-ENP-6.gdoc'\n",
            "-rw------- 1 root root       151 Nov  3  2018 '601 Mini Lab Report.gdoc'\n",
            "-rw------- 2 root root     37303 Dec  5  2018 'Lab 9.pdf'\n",
            "-rw------- 1 root root   3459802 Apr 18 01:01 'New Document(2).pdf'\n",
            "-rw------- 1 root root       151 Apr 25 15:20 'Untitled document.gdoc'\n",
            "-rw------- 1 root root     30202 May 11 13:13  gaussian_fit.ipynb\n",
            "-rw------- 1 root root 165619726 Jun 26 22:36  corsika-76900.tar.gz\n",
            "drwx------ 2 root root      4096 Jul 19 15:30  \u001b[0m\u001b[01;34mResearch\u001b[0m/\n",
            "-rw------- 1 root root       151 Jul 22 13:13 'Coreas simulation for 1 PeV proton.gslides'\n",
            "-rw------- 1 root root    951131 Jul 23 21:06  quiz41.pdf\n",
            "-rw------- 1 root root    931104 Jul 23 21:07  quiz42.pdf\n",
            "-rw------- 1 root root       151 Jul 23 21:13 'Untitled document (2).gdoc'\n",
            "-rw------- 1 root root       151 Aug  7 00:13 'Untitled document (1).gdoc'\n",
            "drwx------ 2 root root      4096 Aug 21 18:41  \u001b[01;34mcodes\u001b[0m/\n",
            "drwx------ 2 root root      4096 Aug 29 02:11 \u001b[01;34m'Colab Notebooks'\u001b[0m/\n",
            "-rw------- 1 root root       151 Sep  5 17:17 'Untitled spreadsheet (1).gsheet'\n",
            "-rw------- 1 root root       151 Sep 16 12:44  studentsheet030.gsheet\n",
            "-rw------- 1 root root       151 Sep 16 12:45  studentsheet031.gsheet\n",
            "-rw------- 1 root root       151 Sep 16 12:45 'Untitled spreadsheet.gsheet'\n",
            "-rw------- 1 root root       151 Sep 16 17:29 'icetop radio.gslides'\n",
            "-rw------- 1 root root    113381 Sep 17 22:48  KS_earthquakes.ipynb\n",
            "-rw------- 1 root root       151 Sep 19 12:09  quizpot.gslides\n",
            "-rw------- 1 root root       151 Sep 19 14:54 'Aera comparison.gslides'\n",
            "-rw------- 1 root root     65534 Sep 24 11:57  GalrotCurve.ipynb\n",
            "-rw------- 1 root root     98126 Sep 24 15:56  hf_prob1.ipynb\n",
            "-rw------- 1 root root       151 Sep 24 22:01 'Untitled presentation.gslides'\n",
            "drwx------ 2 root root      4096 Sep 25 20:30  \u001b[01;34mtest_dit\u001b[0m/\n",
            "-rw------- 1 root root       151 Sep 25 21:10 'Copy of Installing Corsika v7.7 on Cobalt.gdoc'\n",
            "-rw------- 1 root root     50305 Sep 26 13:37  SKM_55819092609270.pdf\n",
            "drwx------ 2 root root      4096 Sep 29 16:22  \u001b[01;34mdata\u001b[0m/\n",
            "drwx------ 2 root root      4096 Sep 29 16:35  \u001b[01;34mdsps2019\u001b[0m/\n",
            "drwx------ 2 root root      4096 Sep 29 22:58  \u001b[01;34mtest_dir\u001b[0m/\n"
          ],
          "name": "stdout"
        }
      ]
    },
    {
      "cell_type": "markdown",
      "metadata": {
        "id": "4zyURwS-7l9f",
        "colab_type": "text"
      },
      "source": [
        "These unix commands can also be combined with some python syntax using the os module (let's make a directory called \"data\" in your colaboratory home directory):"
      ]
    },
    {
      "cell_type": "markdown",
      "metadata": {
        "id": "pwxjxtXqQ8Ax",
        "colab_type": "text"
      },
      "source": [
        "download data from the web "
      ]
    },
    {
      "cell_type": "markdown",
      "metadata": {
        "id": "tDGHVey4rnZX",
        "colab_type": "text"
      },
      "source": [
        "to do that you can use wget, but that command is not \"included\" in the ```colab``` jupyter notebook. the are unix commands. you can use them if you start the command with ```!```"
      ]
    },
    {
      "cell_type": "code",
      "metadata": {
        "id": "1MT_cagq5YId",
        "colab_type": "code",
        "outputId": "9d5fa0c5-6f3b-4cc4-dea1-20326a2de048",
        "colab": {
          "base_uri": "https://localhost:8080/",
          "height": 204
        }
      },
      "source": [
        "!wget  https://www2.census.gov/programs-surveys/cbp/datasets/2016/zbp16totals.zip"
      ],
      "execution_count": 56,
      "outputs": [
        {
          "output_type": "stream",
          "text": [
            "--2019-09-30 01:40:00--  https://www2.census.gov/programs-surveys/cbp/datasets/2016/zbp16totals.zip\n",
            "Resolving www2.census.gov (www2.census.gov)... 96.17.188.63, 2600:1402:3800:29d::208c, 2600:1402:3800:2ab::208c\n",
            "Connecting to www2.census.gov (www2.census.gov)|96.17.188.63|:443... connected.\n",
            "HTTP request sent, awaiting response... 200 OK\n",
            "Length: unspecified [application/zip]\n",
            "Saving to: ‘zbp16totals.zip’\n",
            "\n",
            "\rzbp16totals.zip         [<=>                 ]       0  --.-KB/s               \rzbp16totals.zip         [ <=>                ] 750.30K  --.-KB/s    in 0.1s    \n",
            "\n",
            "2019-09-30 01:40:01 (5.80 MB/s) - ‘zbp16totals.zip’ saved [768303]\n",
            "\n"
          ],
          "name": "stdout"
        }
      ]
    },
    {
      "cell_type": "code",
      "metadata": {
        "id": "fxyEIHb15jTS",
        "colab_type": "code",
        "outputId": "f46973ce-f87a-45ad-b782-76da8843d2dc",
        "colab": {
          "base_uri": "https://localhost:8080/",
          "height": 34
        }
      },
      "source": [
        "ls "
      ],
      "execution_count": 57,
      "outputs": [
        {
          "output_type": "stream",
          "text": [
            "\u001b[0m\u001b[01;34mdrive\u001b[0m/  \u001b[01;34msample_data\u001b[0m/  zbp16totals.zip\n"
          ],
          "name": "stdout"
        }
      ]
    },
    {
      "cell_type": "markdown",
      "metadata": {
        "id": "c_PcMBKesDk0",
        "colab_type": "text"
      },
      "source": [
        "same with ```unzip``` to expand a compressed zip file. the argument ```-d <path> ```expands into \"path\""
      ]
    },
    {
      "cell_type": "code",
      "metadata": {
        "id": "s5v5BZJ3Xdur",
        "colab_type": "code",
        "outputId": "6ea364bd-405a-43dd-f2e9-e7f2c1ac6f27",
        "colab": {
          "base_uri": "https://localhost:8080/",
          "height": 51
        }
      },
      "source": [
        "!unzip  zbp16totals.zip -d \"drive/My Drive/test_dir\""
      ],
      "execution_count": 58,
      "outputs": [
        {
          "output_type": "stream",
          "text": [
            "Archive:  zbp16totals.zip\n",
            "  inflating: drive/My Drive/test_dir/zbp16totals.txt  \n"
          ],
          "name": "stdout"
        }
      ]
    },
    {
      "cell_type": "code",
      "metadata": {
        "id": "u_Uh9bVGvqcN",
        "colab_type": "code",
        "outputId": "6b55f3cd-8b2b-4943-c831-4cccbed2715d",
        "colab": {
          "base_uri": "https://localhost:8080/",
          "height": 34
        }
      },
      "source": [
        "ls \"drive/My Drive/test_dir\""
      ],
      "execution_count": 59,
      "outputs": [
        {
          "output_type": "stream",
          "text": [
            "zbp16totals.txt\n"
          ],
          "name": "stdout"
        }
      ]
    },
    {
      "cell_type": "markdown",
      "metadata": {
        "id": "qXRmtlnNs0Vj",
        "colab_type": "text"
      },
      "source": [
        "Another way to access unix commands is to use the module ```os``` and specifically the function ```os.system()```.  This function performs operations and returns a success vs error state. So I cannot use it, for example, ro tun ```ls```"
      ]
    },
    {
      "cell_type": "code",
      "metadata": {
        "id": "a3SncaivAbiW",
        "colab_type": "code",
        "outputId": "e8941a8c-631b-4920-9aa0-16c076cf8fb8",
        "colab": {
          "base_uri": "https://localhost:8080/",
          "height": 34
        }
      },
      "source": [
        "# -- import the os module for operating system interaction\n",
        "import os\n",
        "cmd = \"ls drive/My\\ Drive/test_dir\"\n",
        "os.system(cmd)\n"
      ],
      "execution_count": 14,
      "outputs": [
        {
          "output_type": "execute_result",
          "data": {
            "text/plain": [
              "0"
            ]
          },
          "metadata": {
            "tags": []
          },
          "execution_count": 14
        }
      ]
    },
    {
      "cell_type": "markdown",
      "metadata": {
        "id": "3Va195cMvwIj",
        "colab_type": "text"
      },
      "source": [
        "0 means no error: the command was executed without problem. Any other number will indicate an error (and you can google the meaning of the number.) But i do not see the output of the command. so use this if you want to know if the command worked, but you do not care to see its output. "
      ]
    },
    {
      "cell_type": "code",
      "metadata": {
        "id": "Fgc3es91t_2Q",
        "colab_type": "code",
        "outputId": "8b5a2f45-cb84-44cf-eff8-d4898b8b4b08",
        "colab": {
          "base_uri": "https://localhost:8080/",
          "height": 34
        }
      },
      "source": [
        "ls \"drive/My Drive/test_dir\""
      ],
      "execution_count": 15,
      "outputs": [
        {
          "output_type": "stream",
          "text": [
            "zbp16totals.txt\n"
          ],
          "name": "stdout"
        }
      ]
    },
    {
      "cell_type": "markdown",
      "metadata": {
        "id": "6ag3Fl2ewT7Q",
        "colab_type": "text"
      },
      "source": [
        "For example I can use it to remove files and directories: ```rm``` (```rm -r``` which means recursively, for a directory)"
      ]
    },
    {
      "cell_type": "markdown",
      "metadata": {
        "id": "NDyuo78caaLr",
        "colab_type": "text"
      },
      "source": [
        "Note the syntax: you need to parse the space with a \"\\ \" in front of it to be rendered correctly in the string when you use ```os.system()```\n"
      ]
    },
    {
      "cell_type": "code",
      "metadata": {
        "id": "zD8PLjlEAdqN",
        "colab_type": "code",
        "outputId": "660425c0-8eea-4018-87ed-f04ab2112148",
        "colab": {
          "base_uri": "https://localhost:8080/",
          "height": 34
        }
      },
      "source": [
        "# -- create a string that contains the command you want\n",
        "cmd = \"rm -r drive/My\\ Drive/test_dir\"\n",
        "# -- execute the command with os.system (notice the output)\n",
        "os.system(cmd)"
      ],
      "execution_count": 16,
      "outputs": [
        {
          "output_type": "execute_result",
          "data": {
            "text/plain": [
              "0"
            ]
          },
          "metadata": {
            "tags": []
          },
          "execution_count": 16
        }
      ]
    },
    {
      "cell_type": "markdown",
      "metadata": {
        "id": "-CjLcfI9wtSs",
        "colab_type": "text"
      },
      "source": [
        "\n",
        "The directory is no longer there\n",
        "\n",
        "\n"
      ]
    },
    {
      "cell_type": "code",
      "metadata": {
        "id": "4dCwpj6oZaDY",
        "colab_type": "code",
        "outputId": "5c8dbb6d-424d-41ed-b237-2222694b6464",
        "colab": {
          "base_uri": "https://localhost:8080/",
          "height": 34
        }
      },
      "source": [
        "ls \"drive/My Drive/test_dir\""
      ],
      "execution_count": 17,
      "outputs": [
        {
          "output_type": "stream",
          "text": [
            "ls: cannot access 'drive/My Drive/test_dir': No such file or directory\n"
          ],
          "name": "stdout"
        }
      ]
    },
    {
      "cell_type": "markdown",
      "metadata": {
        "colab_type": "text",
        "id": "4NMfx1UcaiNT"
      },
      "source": [
        "You can string unix commands together with the semicolon ; (cd stands for \"change directory\" and it moves you around)"
      ]
    },
    {
      "cell_type": "code",
      "metadata": {
        "colab_type": "code",
        "id": "Uf6J-Ir3ahB6",
        "outputId": "777aa8eb-cdec-46cc-d143-6376137f46d4",
        "colab": {
          "base_uri": "https://localhost:8080/",
          "height": 51
        }
      },
      "source": [
        "ls; cd drive; pwd"
      ],
      "execution_count": 18,
      "outputs": [
        {
          "output_type": "stream",
          "text": [
            "\u001b[0m\u001b[01;34mdrive\u001b[0m/  \u001b[01;34msample_data\u001b[0m/  zbp16totals.zip\n",
            "/content/drive\n"
          ],
          "name": "stdout"
        }
      ]
    },
    {
      "cell_type": "markdown",
      "metadata": {
        "id": "KhJgBEZMYrP6",
        "colab_type": "text"
      },
      "source": [
        "But again, <u>**these are not python commands and can't be used as such on their own**</u>:"
      ]
    },
    {
      "cell_type": "markdown",
      "metadata": {
        "id": "FL_G_W98AmNp",
        "colab_type": "text"
      },
      "source": [
        "We'll see how combining unix commands with python via os.system can be put to good use below."
      ]
    },
    {
      "cell_type": "markdown",
      "metadata": {
        "id": "B9Ku1bQQAp1z",
        "colab_type": "text"
      },
      "source": [
        "### The wget command\n",
        "\n",
        "When dealing with data on the web, the wget command can be very useful for quickly grabbing data that you want.  Let's get the zipcode business patterns for 2016 (note the exclamation point before the wget command):"
      ]
    },
    {
      "cell_type": "code",
      "metadata": {
        "id": "XxMIc-ZUAws6",
        "colab_type": "code",
        "outputId": "e8f562ca-15f7-413b-f28c-b89d547a710c",
        "colab": {
          "base_uri": "https://localhost:8080/",
          "height": 224
        }
      },
      "source": [
        "!wget https://www2.census.gov/programs-surveys/cbp/datasets/2016/zbp16detail.zip"
      ],
      "execution_count": 0,
      "outputs": [
        {
          "output_type": "stream",
          "text": [
            "--2019-09-26 04:11:35--  https://www2.census.gov/programs-surveys/cbp/datasets/2016/zbp16detail.zip\n",
            "Resolving www2.census.gov (www2.census.gov)... 23.44.160.119, 2600:1409:12:392::208c, 2600:1409:12:3a2::208c\n",
            "Connecting to www2.census.gov (www2.census.gov)|23.44.160.119|:443... connected.\n",
            "HTTP request sent, awaiting response... 200 OK\n",
            "Length: unspecified [application/zip]\n",
            "Saving to: ‘zbp16detail.zip’\n",
            "\n",
            "zbp16detail.zip         [   <=>              ]  27.51M  57.2MB/s    in 0.5s    \n",
            "\n",
            "2019-09-26 04:11:36 (57.2 MB/s) - ‘zbp16detail.zip’ saved [28843251]\n",
            "\n"
          ],
          "name": "stdout"
        }
      ]
    },
    {
      "cell_type": "markdown",
      "metadata": {
        "id": "KWY9T8TpBZAz",
        "colab_type": "text"
      },
      "source": [
        "Now we can see the utility of combining unix commands with python to make our lives much easier:"
      ]
    },
    {
      "cell_type": "code",
      "metadata": {
        "id": "dye1nKXTxnqP",
        "colab_type": "code",
        "colab": {
          "base_uri": "https://localhost:8080/",
          "height": 34
        },
        "outputId": "de935931-13ac-41c7-b1ee-36ff151e5276"
      },
      "source": [
        "ls"
      ],
      "execution_count": 19,
      "outputs": [
        {
          "output_type": "stream",
          "text": [
            "\u001b[0m\u001b[01;34mdrive\u001b[0m/  \u001b[01;34msample_data\u001b[0m/  zbp16totals.zip\n"
          ],
          "name": "stdout"
        }
      ]
    },
    {
      "cell_type": "code",
      "metadata": {
        "id": "7MsRhdsMaFhi",
        "colab_type": "code",
        "colab": {
          "base_uri": "https://localhost:8080/",
          "height": 34
        },
        "outputId": "08949e5f-68a0-41e2-e373-a321d9cf15f9"
      },
      "source": [
        "# -- define a command to make a sub-directory in data called zbp\n",
        "cmd = \"mkdir -p drive/My\\ Drive/data/zbp\"\n",
        "# -- run that command\n",
        "os.system(cmd)\n",
        "# -- check if the command worked"
      ],
      "execution_count": 20,
      "outputs": [
        {
          "output_type": "execute_result",
          "data": {
            "text/plain": [
              "0"
            ]
          },
          "metadata": {
            "tags": []
          },
          "execution_count": 20
        }
      ]
    },
    {
      "cell_type": "code",
      "metadata": {
        "id": "zyADI3LG31Ah",
        "colab_type": "code",
        "colab": {
          "base_uri": "https://localhost:8080/",
          "height": 34
        },
        "outputId": "c1fc1427-f6f0-48ff-ab73-c0a969cfd455"
      },
      "source": [
        "# -- check if the command  worked\n",
        "ls \"drive/My Drive/data\""
      ],
      "execution_count": 21,
      "outputs": [
        {
          "output_type": "stream",
          "text": [
            "\u001b[0m\u001b[01;34mzbp\u001b[0m/\n"
          ],
          "name": "stdout"
        }
      ]
    },
    {
      "cell_type": "markdown",
      "metadata": {
        "id": "C3NHu_rOxSMf",
        "colab_type": "text"
      },
      "source": [
        "last package to discuss: ```glob``` looks at the content of a directory and returns it in a list. if the dir is empty the length of the string is...0!"
      ]
    },
    {
      "cell_type": "code",
      "metadata": {
        "id": "3t6wl3GcbbTU",
        "colab_type": "code",
        "colab": {}
      },
      "source": [
        "import glob\n",
        "if len(glob.glob(\"drive/My Drive/dsps2019\")) == 0:\n",
        "  os.system(\"mkdir drive/My\\ Drive/dsps2019\")\n"
      ],
      "execution_count": 0,
      "outputs": []
    },
    {
      "cell_type": "code",
      "metadata": {
        "id": "FXm1ut4jxv8U",
        "colab_type": "code",
        "outputId": "5d577a8a-3385-4a8f-f2aa-4bc610e9c234",
        "colab": {
          "base_uri": "https://localhost:8080/",
          "height": 629
        }
      },
      "source": [
        "ls -ltr \"drive/My Drive\""
      ],
      "execution_count": 23,
      "outputs": [
        {
          "output_type": "stream",
          "text": [
            "total 168497\n",
            "-rw------- 1 root root    696774 Apr 19  2018 'Getting started.pdf'\n",
            "-rw------- 1 root root     74494 Jul  4  2018 'i-9-paper-version (1).pdf'\n",
            "-rw------- 1 root root    377338 Oct 30  2018  SF-ENP-6.docx\n",
            "-rw------- 1 root root       151 Oct 30  2018  SF-ENP-6.gdoc\n",
            "-rw------- 1 root root       151 Oct 30  2018 'Copy of SF-ENP-6.gdoc'\n",
            "-rw------- 1 root root       151 Nov  3  2018 '601 Mini Lab Report.gdoc'\n",
            "-rw------- 2 root root     37303 Dec  5  2018 'Lab 9.pdf'\n",
            "-rw------- 1 root root   3459802 Apr 18 01:01 'New Document(2).pdf'\n",
            "-rw------- 1 root root       151 Apr 25 15:20 'Untitled document.gdoc'\n",
            "-rw------- 1 root root     30202 May 11 13:13  gaussian_fit.ipynb\n",
            "-rw------- 1 root root 165619726 Jun 26 22:36  corsika-76900.tar.gz\n",
            "drwx------ 2 root root      4096 Jul 19 15:30  \u001b[0m\u001b[01;34mResearch\u001b[0m/\n",
            "-rw------- 1 root root       151 Jul 22 13:13 'Coreas simulation for 1 PeV proton.gslides'\n",
            "-rw------- 1 root root    951131 Jul 23 21:06  quiz41.pdf\n",
            "-rw------- 1 root root    931104 Jul 23 21:07  quiz42.pdf\n",
            "-rw------- 1 root root       151 Jul 23 21:13 'Untitled document (2).gdoc'\n",
            "-rw------- 1 root root       151 Aug  7 00:13 'Untitled document (1).gdoc'\n",
            "drwx------ 2 root root      4096 Aug 21 18:41  \u001b[01;34mcodes\u001b[0m/\n",
            "drwx------ 2 root root      4096 Aug 29 02:11 \u001b[01;34m'Colab Notebooks'\u001b[0m/\n",
            "-rw------- 1 root root       151 Sep  5 17:17 'Untitled spreadsheet (1).gsheet'\n",
            "-rw------- 1 root root       151 Sep 16 12:44  studentsheet030.gsheet\n",
            "-rw------- 1 root root       151 Sep 16 12:45  studentsheet031.gsheet\n",
            "-rw------- 1 root root       151 Sep 16 12:45 'Untitled spreadsheet.gsheet'\n",
            "-rw------- 1 root root       151 Sep 16 17:29 'icetop radio.gslides'\n",
            "-rw------- 1 root root    113381 Sep 17 22:48  KS_earthquakes.ipynb\n",
            "-rw------- 1 root root       151 Sep 19 12:09  quizpot.gslides\n",
            "-rw------- 1 root root       151 Sep 19 14:54 'Aera comparison.gslides'\n",
            "-rw------- 1 root root     65534 Sep 24 11:57  GalrotCurve.ipynb\n",
            "-rw------- 1 root root     98126 Sep 24 15:56  hf_prob1.ipynb\n",
            "-rw------- 1 root root       151 Sep 24 22:01 'Untitled presentation.gslides'\n",
            "drwx------ 2 root root      4096 Sep 25 20:30  \u001b[01;34mtest_dit\u001b[0m/\n",
            "-rw------- 1 root root       151 Sep 25 21:10 'Copy of Installing Corsika v7.7 on Cobalt.gdoc'\n",
            "-rw------- 1 root root     50305 Sep 26 13:37  SKM_55819092609270.pdf\n",
            "drwx------ 3 root root      4096 Sep 29 16:22  \u001b[01;34mdata\u001b[0m/\n",
            "drwx------ 2 root root      4096 Sep 29 16:35  \u001b[01;34mdsps2019\u001b[0m/\n"
          ],
          "name": "stdout"
        }
      ]
    },
    {
      "cell_type": "markdown",
      "metadata": {
        "id": "LveUbS1TRgAR",
        "colab_type": "text"
      },
      "source": [
        "## TASK\n",
        "Create a for loop that reads in the ZIPCODE data zbp[year]detail.zip where [year] goes from 2010 through 2014 included. \n",
        "The for look should use the ```os``` module to: \n",
        "  - download the zipped file\n",
        "  - unzip the file in dsps2019 dir (create it if necessary)\n",
        "  - clean up after itself by removing the downloaded zip files\n",
        "  - print at every step of the loop which year the loop is working on and at each command which command is running. \n",
        "  - notify the user if an error occurs and where\n"
      ]
    },
    {
      "cell_type": "code",
      "metadata": {
        "id": "w6gyE5bAyVJ8",
        "colab_type": "code",
        "colab": {
          "base_uri": "https://localhost:8080/",
          "height": 289
        },
        "outputId": "8c3d426c-706e-4d21-bda8-b278445a2f54"
      },
      "source": [
        "path = \"drive/My Drive/data/zbp\"\n",
        "\n",
        "# create the directory as above.\n",
        "os.system(\"mkdir -p drive/My\\ Drive/dsps_2019\")\n",
        "\n",
        "\n",
        "# Use glob.glob to see if it is there and capture the output of os.system to see if you have an error\n",
        "glob.glob(\"drive/My Drive/dsps2019\")\n",
        "sys_out=os.system(\"ls drive/My\\ Drive/dsps2019\")\n",
        "if sys_out != 0:\n",
        "      print(\"error \", res, \"dsps2019 cannot be found\")\n",
        "\n",
        "# -- loop through the years for which we want the zbp data\n",
        "for ii in np.arange(10,15,1):\n",
        "  \n",
        "    # -- convert year to string\n",
        "  snum = str(ii)\n",
        "\n",
        "  # -- build the wget command\n",
        "  cmd_wget = \"wget https://www2.census.gov/programs-surveys/cbp/datasets/20\"+snum+\"/zbp\"+snum+\"detail.zip\"\n",
        "  \n",
        "  # -- build the unzip command\n",
        "  cmd_unzip = \"unzip  zbp\"+snum+\"detail.zip -d 'drive/My Drive/dsps2019'\"\n",
        "\n",
        "\n",
        "    # -- build the remove command\n",
        "  cmd_rm = \"rm -r zbp\" + snum + \"detail.zip\"\n",
        "  \n",
        "   # -- alert on progress\n",
        "  print(\"downloading year 20{}\".format(snum))\n",
        "  # -- execute the wget command and check\n",
        "  res = os.system(cmd_wget)\n",
        "  if res != 0:\n",
        "      print(\"error \", res, \"with downloading\", ii)\n",
        "  # -- alert on progress\n",
        "  print(\"Unzipping and moving file of year 20{}\".format(snum))  \n",
        "  res = os.system(cmd_unzip)\n",
        "  if res != 0:\n",
        "    print(\"error \", res, \"with unzipping\", ii)\n",
        "  #deleting downloaded zip file\n",
        "  print(\"removing the zip file of year 20{}\".format(snum))\n",
        "  res = os.system(cmd_rm)\n",
        "  if res != 0:\n",
        "    print(\"error \", res, \"with removing file\", ii)\n"
      ],
      "execution_count": 86,
      "outputs": [
        {
          "output_type": "stream",
          "text": [
            "downloading year 2010\n",
            "Unzipping and moving file of year 2010\n",
            "error  256 with unzipping 10\n",
            "removing the zip file of year 2010\n",
            "downloading year 2011\n",
            "Unzipping and moving file of year 2011\n",
            "removing the zip file of year 2011\n",
            "downloading year 2012\n",
            "Unzipping and moving file of year 2012\n",
            "removing the zip file of year 2012\n",
            "downloading year 2013\n",
            "Unzipping and moving file of year 2013\n",
            "removing the zip file of year 2013\n",
            "downloading year 2014\n",
            "Unzipping and moving file of year 2014\n",
            "removing the zip file of year 2014\n"
          ],
          "name": "stdout"
        }
      ]
    },
    {
      "cell_type": "code",
      "metadata": {
        "id": "c1yIEAGuTIrZ",
        "colab_type": "code",
        "outputId": "147e748c-f8a1-4791-8bd9-cbbd4bf76aa1",
        "colab": {
          "base_uri": "https://localhost:8080/",
          "height": 51
        }
      },
      "source": [
        "ls  \"drive/My Drive/dsps2019\""
      ],
      "execution_count": 87,
      "outputs": [
        {
          "output_type": "stream",
          "text": [
            "zbp10detail.txt  zbp12detail.txt  zbp14detail.txt\n",
            "zbp11detail.txt  zbp13detail.txt\n"
          ],
          "name": "stdout"
        }
      ]
    },
    {
      "cell_type": "code",
      "metadata": {
        "id": "oOj9BxTfyupa",
        "colab_type": "code",
        "colab": {
          "base_uri": "https://localhost:8080/",
          "height": 34
        },
        "outputId": "ec8e6c16-8662-4d2e-edce-f98f9ca10c21"
      },
      "source": [
        "ls"
      ],
      "execution_count": 88,
      "outputs": [
        {
          "output_type": "stream",
          "text": [
            "\u001b[0m\u001b[01;34mdrive\u001b[0m/  \u001b[01;34msample_data\u001b[0m/\n"
          ],
          "name": "stdout"
        }
      ]
    }
  ]
}