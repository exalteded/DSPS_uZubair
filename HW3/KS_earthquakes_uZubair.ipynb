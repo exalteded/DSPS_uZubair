{
 "cells": [
  {
   "cell_type": "markdown",
   "metadata": {
    "colab_type": "text",
    "id": "view-in-github"
   },
   "source": [
    "<a href=\"https://colab.research.google.com/github/fedhere/DSPS/blob/master/KS_earthquakes.ipynb\" target=\"_parent\"><img src=\"https://colab.research.google.com/assets/colab-badge.svg\" alt=\"Open In Colab\"/></a>"
   ]
  },
  {
   "cell_type": "markdown",
   "metadata": {
    "colab_type": "text",
    "id": "Uk3iBT7phXry"
   },
   "source": [
    "Created by FedericaBBianco @fedhere September 2019 for UDel PHYS467/667\n",
    "# Kolmogorov Smirnoff test, application to earthquake data"
   ]
  },
  {
   "cell_type": "code",
   "execution_count": 2,
   "metadata": {
    "ExecuteTime": {
     "end_time": "2019-09-09T01:40:01.895798Z",
     "start_time": "2019-09-09T01:40:01.890474Z"
    },
    "colab": {
     "base_uri": "https://localhost:8080/",
     "height": 34
    },
    "colab_type": "code",
    "id": "LS78mdVthXrz",
    "outputId": "b6a8b15c-1b14-4fa7-af9a-60ddcfe57d32"
   },
   "outputs": [
    {
     "name": "stdout",
     "output_type": "stream",
     "text": [
      "Populating the interactive namespace from numpy and matplotlib\n"
     ]
    }
   ],
   "source": [
    "#all the imports I needed\n",
    "from __future__ import print_function, division\n",
    "import pandas as pd\n",
    "import pylab as pl\n",
    "import scipy as sp\n",
    "from scipy import stats\n",
    "%pylab inline\n",
    "pl.style.use(\"https://raw.githubusercontent.com/fedhere/DSPS/master/fbb.mplstyle\")"
   ]
  },
  {
   "cell_type": "markdown",
   "metadata": {
    "colab_type": "text",
    "id": "SvIJHRyuhXr2"
   },
   "source": [
    "This homework asks you to reproduce the work in [Corral 2018](https://arxiv.org/pdf/0910.0055.pdf) which is well described, but not \"reproducible\". \n",
    "Corral 2018 uses a K-S test to show that at different magnitude scales the time gaps between earthquakes follows the same distribution. If true, this indicates that there is a consistent scaling law. \n",
    "\n",
    "The argument is a little convoluted, but it is a somewhat innovative use of the test. Corall compares the time gap between earthquakes  greater than a certain magnitude threshold with the time gaps between earthquakes above a different threshold, and finds no differences.\n",
    "\n",
    "Remind yourself exactly what the K-S test is about :\n",
    "\n",
    "    1 What is the test's Null Hypothsis that the K-S test tests?\n",
    "    \n",
    "    \n"
   ]
  },
  {
   "cell_type": "markdown",
   "metadata": {
    "colab_type": "text",
    "id": "y8DJjYrthXr3"
   },
   "source": [
    "### It tests the Null Hypothesis that the two data samples originates from same parent distribution.\n",
    "\n"
   ]
  },
  {
   "cell_type": "markdown",
   "metadata": {
    "colab_type": "text",
    "id": "V8T9XH7nhXr3"
   },
   "source": [
    "    2 What is the \"statistic\" or \"pivotal quantity\" that the test uses?\n",
    "    \n"
   ]
  },
  {
   "cell_type": "markdown",
   "metadata": {
    "ExecuteTime": {
     "end_time": "2019-09-08T21:14:09.757045Z",
     "start_time": "2019-09-08T21:14:09.753882Z"
    },
    "colab_type": "text",
    "id": "jSSktfhAhXr4"
   },
   "source": [
    "### It uses the maximum difference between empirical distribution functions of samples in cumulative space as the \"statistic\" or \"pivotal quantity\".\n",
    "\n",
    "\n"
   ]
  },
  {
   "cell_type": "markdown",
   "metadata": {
    "ExecuteTime": {
     "end_time": "2019-09-08T21:14:43.709157Z",
     "start_time": "2019-09-08T21:14:43.704734Z"
    },
    "colab_type": "text",
    "id": "IYoQgG1BhXr4"
   },
   "source": [
    "    3 What does the probability distribution of this statistic depend on? \n",
    "    \n",
    "   \n"
   ]
  },
  {
   "cell_type": "markdown",
   "metadata": {
    "colab_type": "text",
    "id": "ak74uTIrhXr5"
   },
   "source": [
    "### It depends on the size of sample (N) and distance between empirical distributions in cumulative space.\n",
    "\n",
    "\n",
    "\n",
    "    "
   ]
  },
  {
   "cell_type": "markdown",
   "metadata": {
    "colab_type": "text",
    "id": "M-h5uhgfhXr6"
   },
   "source": [
    "# Data Retrival"
   ]
  },
  {
   "cell_type": "markdown",
   "metadata": {
    "colab_type": "text",
    "id": "7TW_8XaNhXr6"
   },
   "source": [
    "The first reason why the paper is not techincally _reproducible_ is that, while a link is provided to retrieve the data, the link is dead. This happens often. Services like [Zenodo](https://zenodo.org/) or journals that serve data provide some insurance against this but unfortunately the standards are not strict. "
   ]
  },
  {
   "cell_type": "markdown",
   "metadata": {
    "colab_type": "text",
    "id": "Bt6gDmQJhXr7"
   },
   "source": [
    "If you are taking this class as 667 retrieve the data yourself from [this website](http://service.scedc.caltech.edu/eq-catalogs/poly.php). Make sure the number of entries in your final dataset is similar to that of the authors. I got 70798, instead of 77000. 10% off, which I deem close enough. You should get something similar. Use the map in the paper to determine the region of interest. Call the file earthquakes_\\<firstinitialLastname\\>.csv and upload it to your github repository. Read it your file, instead of mine as instructed below. If you are getting weird results compare to what I got, go back and check how the files differ."
   ]
  },
  {
   "cell_type": "markdown",
   "metadata": {
    "colab_type": "text",
    "id": "eCiLW1AuhXr7"
   },
   "source": [
    "# Data Ingestion"
   ]
  },
  {
   "cell_type": "markdown",
   "metadata": {
    "colab_type": "text",
    "id": "FH0X7d9_hXr8"
   },
   "source": [
    "## read in data"
   ]
  },
  {
   "cell_type": "markdown",
   "metadata": {
    "colab_type": "text",
    "id": "XbMPVaK-hXr9"
   },
   "source": [
    "I saved the data in a file called \"earthquakes.csv\", where ```csv``` stands for \"comma separated file\". [This file format](https://www.howtogeek.com/348960/what-is-a-csv-file-and-how-do-i-open-it/) requires different entries in a row to be separated by commas alone (no space) and for commas to be used in quote if they are not intended to separate entries. \n",
    "\n",
    "```\n",
    "a,b,c\n",
    "d,e,f\n",
    "g,\"h,2\",i\n",
    "```\n",
    "The data is uploaded on the  github homework repository but to read it in you will need to get the link to the *raw file*: the link to the file https://github.com/fedhere/DSPS/blob/master/HW3/earthquakes.csv  takes you to an ```html``` page that includes the content of the file, but you want to isolate the content of the file itself: the _raw file_. Pay attention to this: from the next time I will not give you the exact link, I will just point you to the file and you will have to find the link to the raw data from there. \n",
    "https://raw.githubusercontent.com/fedhere/DSPS/master/HW3/earthquakes.csv\n",
    "\n",
    "The data can be read effectively using the _pandas_ python package as ```pandas.read_csv(<file name or URL>)```. \n",
    "\n",
    "However, I did not format the data correctly, according to the csv extension requirement. This happens all the time. Look at the file and use the pandas documentation to figure out how to read it with ```pd.read_csv()```"
   ]
  },
  {
   "cell_type": "code",
   "execution_count": 3,
   "metadata": {
    "ExecuteTime": {
     "end_time": "2019-09-09T01:40:02.638703Z",
     "start_time": "2019-09-09T01:40:02.454643Z"
    },
    "colab": {},
    "colab_type": "code",
    "id": "hOEZafxahXr9"
   },
   "outputs": [],
   "source": [
    "eqdata=pd.read_csv(\"https://raw.githubusercontent.com/umerudel/DSPS_uZubair/master/HW3/earthquakes_uZubair.csv\",sep=' ')"
   ]
  },
  {
   "cell_type": "markdown",
   "metadata": {
    "colab_type": "text",
    "id": "r0IW9m4vhXr_"
   },
   "source": [
    "running the following lines of code should give you the same result as mine if you used the file I provided (467 students), and qualitatively  similar if you are using your own data (667 students)"
   ]
  },
  {
   "cell_type": "code",
   "execution_count": 6,
   "metadata": {
    "ExecuteTime": {
     "end_time": "2019-09-09T01:40:02.643428Z",
     "start_time": "2019-09-09T01:40:02.640847Z"
    },
    "colab": {
     "base_uri": "https://localhost:8080/",
     "height": 34
    },
    "colab_type": "code",
    "id": "uphAqv5ZhXsA",
    "outputId": "7d5e3993-983b-4611-dbc7-48a189963b84"
   },
   "outputs": [
    {
     "data": {
      "text/plain": [
       "(70798, 34)"
      ]
     },
     "execution_count": 6,
     "metadata": {
      "tags": []
     },
     "output_type": "execute_result"
    }
   ],
   "source": [
    "eqdata.shape"
   ]
  },
  {
   "cell_type": "code",
   "execution_count": 7,
   "metadata": {
    "ExecuteTime": {
     "end_time": "2019-09-09T01:40:02.661139Z",
     "start_time": "2019-09-09T01:40:02.644720Z"
    },
    "colab": {
     "base_uri": "https://localhost:8080/",
     "height": 241
    },
    "colab_type": "code",
    "id": "9CHqm426hXsC",
    "outputId": "127e3524-54bc-4d6c-c4df-7737b7b348a3"
   },
   "outputs": [
    {
     "data": {
      "text/html": [
       "<div>\n",
       "<style scoped>\n",
       "    .dataframe tbody tr th:only-of-type {\n",
       "        vertical-align: middle;\n",
       "    }\n",
       "\n",
       "    .dataframe tbody tr th {\n",
       "        vertical-align: top;\n",
       "    }\n",
       "\n",
       "    .dataframe thead th {\n",
       "        text-align: right;\n",
       "    }\n",
       "</style>\n",
       "<table border=\"1\" class=\"dataframe\">\n",
       "  <thead>\n",
       "    <tr style=\"text-align: right;\">\n",
       "      <th></th>\n",
       "      <th>#YYY/MM/DD</th>\n",
       "      <th>HH:mm:SS.ss</th>\n",
       "      <th>ET</th>\n",
       "      <th>GT</th>\n",
       "      <th>MAG</th>\n",
       "      <th>Unnamed: 5</th>\n",
       "      <th>M</th>\n",
       "      <th>Unnamed: 7</th>\n",
       "      <th>Unnamed: 8</th>\n",
       "      <th>Unnamed: 9</th>\n",
       "      <th>LAT</th>\n",
       "      <th>Unnamed: 11</th>\n",
       "      <th>Unnamed: 12</th>\n",
       "      <th>Unnamed: 13</th>\n",
       "      <th>Unnamed: 14</th>\n",
       "      <th>Unnamed: 15</th>\n",
       "      <th>Unnamed: 16</th>\n",
       "      <th>LON</th>\n",
       "      <th>Unnamed: 18</th>\n",
       "      <th>Unnamed: 19</th>\n",
       "      <th>Unnamed: 20</th>\n",
       "      <th>Unnamed: 21</th>\n",
       "      <th>Unnamed: 22</th>\n",
       "      <th>DEPTH</th>\n",
       "      <th>Q</th>\n",
       "      <th>Unnamed: 25</th>\n",
       "      <th>EVID</th>\n",
       "      <th>Unnamed: 27</th>\n",
       "      <th>Unnamed: 28</th>\n",
       "      <th>Unnamed: 29</th>\n",
       "      <th>Unnamed: 30</th>\n",
       "      <th>Unnamed: 31</th>\n",
       "      <th>NPH</th>\n",
       "      <th>NGRM</th>\n",
       "    </tr>\n",
       "  </thead>\n",
       "  <tbody>\n",
       "    <tr>\n",
       "      <th>0</th>\n",
       "      <td>1984/01/01</td>\n",
       "      <td>01:30:57.52</td>\n",
       "      <td>eq</td>\n",
       "      <td>NaN</td>\n",
       "      <td>l</td>\n",
       "      <td>2.02</td>\n",
       "      <td>c</td>\n",
       "      <td>NaN</td>\n",
       "      <td>NaN</td>\n",
       "      <td>33.246</td>\n",
       "      <td>-116.433</td>\n",
       "      <td>NaN</td>\n",
       "      <td>NaN</td>\n",
       "      <td>1.6</td>\n",
       "      <td>C</td>\n",
       "      <td>NaN</td>\n",
       "      <td>NaN</td>\n",
       "      <td>NaN</td>\n",
       "      <td>28255.0</td>\n",
       "      <td>NaN</td>\n",
       "      <td>NaN</td>\n",
       "      <td>13.0</td>\n",
       "      <td>NaN</td>\n",
       "      <td>NaN</td>\n",
       "      <td>17.0</td>\n",
       "      <td>NaN</td>\n",
       "      <td>NaN</td>\n",
       "      <td>NaN</td>\n",
       "      <td>NaN</td>\n",
       "      <td>NaN</td>\n",
       "      <td>NaN</td>\n",
       "      <td>NaN</td>\n",
       "      <td>NaN</td>\n",
       "      <td>NaN</td>\n",
       "    </tr>\n",
       "    <tr>\n",
       "      <th>1</th>\n",
       "      <td>1984/01/01</td>\n",
       "      <td>05:31:34.16</td>\n",
       "      <td>eq</td>\n",
       "      <td>NaN</td>\n",
       "      <td>l</td>\n",
       "      <td>2.12</td>\n",
       "      <td>c</td>\n",
       "      <td>NaN</td>\n",
       "      <td>NaN</td>\n",
       "      <td>32.945</td>\n",
       "      <td>-116.295</td>\n",
       "      <td>NaN</td>\n",
       "      <td>NaN</td>\n",
       "      <td>5.4</td>\n",
       "      <td>C</td>\n",
       "      <td>NaN</td>\n",
       "      <td>NaN</td>\n",
       "      <td>NaN</td>\n",
       "      <td>28259.0</td>\n",
       "      <td>NaN</td>\n",
       "      <td>NaN</td>\n",
       "      <td>18.0</td>\n",
       "      <td>NaN</td>\n",
       "      <td>NaN</td>\n",
       "      <td>42.0</td>\n",
       "      <td>NaN</td>\n",
       "      <td>NaN</td>\n",
       "      <td>NaN</td>\n",
       "      <td>NaN</td>\n",
       "      <td>NaN</td>\n",
       "      <td>NaN</td>\n",
       "      <td>NaN</td>\n",
       "      <td>NaN</td>\n",
       "      <td>NaN</td>\n",
       "    </tr>\n",
       "    <tr>\n",
       "      <th>2</th>\n",
       "      <td>1984/01/01</td>\n",
       "      <td>06:59:05.14</td>\n",
       "      <td>eq</td>\n",
       "      <td>NaN</td>\n",
       "      <td>l</td>\n",
       "      <td>2.43</td>\n",
       "      <td>c</td>\n",
       "      <td>NaN</td>\n",
       "      <td>NaN</td>\n",
       "      <td>33.343</td>\n",
       "      <td>-117.628</td>\n",
       "      <td>NaN</td>\n",
       "      <td>NaN</td>\n",
       "      <td>5.6</td>\n",
       "      <td>C</td>\n",
       "      <td>NaN</td>\n",
       "      <td>NaN</td>\n",
       "      <td>NaN</td>\n",
       "      <td>28260.0</td>\n",
       "      <td>NaN</td>\n",
       "      <td>NaN</td>\n",
       "      <td>13.0</td>\n",
       "      <td>NaN</td>\n",
       "      <td>NaN</td>\n",
       "      <td>30.0</td>\n",
       "      <td>NaN</td>\n",
       "      <td>NaN</td>\n",
       "      <td>NaN</td>\n",
       "      <td>NaN</td>\n",
       "      <td>NaN</td>\n",
       "      <td>NaN</td>\n",
       "      <td>NaN</td>\n",
       "      <td>NaN</td>\n",
       "      <td>NaN</td>\n",
       "    </tr>\n",
       "    <tr>\n",
       "      <th>3</th>\n",
       "      <td>1984/01/01</td>\n",
       "      <td>11:10:25.29</td>\n",
       "      <td>eq</td>\n",
       "      <td>NaN</td>\n",
       "      <td>l</td>\n",
       "      <td>2.07</td>\n",
       "      <td>c</td>\n",
       "      <td>NaN</td>\n",
       "      <td>NaN</td>\n",
       "      <td>33.668</td>\n",
       "      <td>-116.780</td>\n",
       "      <td>NaN</td>\n",
       "      <td>13.8</td>\n",
       "      <td>C</td>\n",
       "      <td>NaN</td>\n",
       "      <td>NaN</td>\n",
       "      <td>NaN</td>\n",
       "      <td>28270.0</td>\n",
       "      <td>NaN</td>\n",
       "      <td>NaN</td>\n",
       "      <td>19.0</td>\n",
       "      <td>NaN</td>\n",
       "      <td>NaN</td>\n",
       "      <td>40.0</td>\n",
       "      <td>NaN</td>\n",
       "      <td>NaN</td>\n",
       "      <td>NaN</td>\n",
       "      <td>NaN</td>\n",
       "      <td>NaN</td>\n",
       "      <td>NaN</td>\n",
       "      <td>NaN</td>\n",
       "      <td>NaN</td>\n",
       "      <td>NaN</td>\n",
       "      <td>NaN</td>\n",
       "    </tr>\n",
       "    <tr>\n",
       "      <th>4</th>\n",
       "      <td>1984/01/01</td>\n",
       "      <td>19:38:19.79</td>\n",
       "      <td>eq</td>\n",
       "      <td>NaN</td>\n",
       "      <td>l</td>\n",
       "      <td>2.13</td>\n",
       "      <td>c</td>\n",
       "      <td>NaN</td>\n",
       "      <td>NaN</td>\n",
       "      <td>33.963</td>\n",
       "      <td>-116.290</td>\n",
       "      <td>NaN</td>\n",
       "      <td>NaN</td>\n",
       "      <td>2.7</td>\n",
       "      <td>C</td>\n",
       "      <td>NaN</td>\n",
       "      <td>NaN</td>\n",
       "      <td>NaN</td>\n",
       "      <td>28553.0</td>\n",
       "      <td>NaN</td>\n",
       "      <td>NaN</td>\n",
       "      <td>40.0</td>\n",
       "      <td>NaN</td>\n",
       "      <td>NaN</td>\n",
       "      <td>49.0</td>\n",
       "      <td>NaN</td>\n",
       "      <td>NaN</td>\n",
       "      <td>NaN</td>\n",
       "      <td>NaN</td>\n",
       "      <td>NaN</td>\n",
       "      <td>NaN</td>\n",
       "      <td>NaN</td>\n",
       "      <td>NaN</td>\n",
       "      <td>NaN</td>\n",
       "    </tr>\n",
       "  </tbody>\n",
       "</table>\n",
       "</div>"
      ],
      "text/plain": [
       "   #YYY/MM/DD  HH:mm:SS.ss  ET  GT  ... Unnamed: 30  Unnamed: 31 NPH  NGRM\n",
       "0  1984/01/01  01:30:57.52  eq NaN  ...         NaN          NaN NaN   NaN\n",
       "1  1984/01/01  05:31:34.16  eq NaN  ...         NaN          NaN NaN   NaN\n",
       "2  1984/01/01  06:59:05.14  eq NaN  ...         NaN          NaN NaN   NaN\n",
       "3  1984/01/01  11:10:25.29  eq NaN  ...         NaN          NaN NaN   NaN\n",
       "4  1984/01/01  19:38:19.79  eq NaN  ...         NaN          NaN NaN   NaN\n",
       "\n",
       "[5 rows x 34 columns]"
      ]
     },
     "execution_count": 7,
     "metadata": {
      "tags": []
     },
     "output_type": "execute_result"
    }
   ],
   "source": [
    "eqdata.head()"
   ]
  },
  {
   "cell_type": "code",
   "execution_count": 8,
   "metadata": {
    "ExecuteTime": {
     "end_time": "2019-09-09T01:40:02.759957Z",
     "start_time": "2019-09-09T01:40:02.662327Z"
    },
    "colab": {
     "base_uri": "https://localhost:8080/",
     "height": 334
    },
    "colab_type": "code",
    "id": "405C-Y8_hXsD",
    "outputId": "c3304978-0073-48a0-a354-538c72de7ed4"
   },
   "outputs": [
    {
     "data": {
      "text/html": [
       "<div>\n",
       "<style scoped>\n",
       "    .dataframe tbody tr th:only-of-type {\n",
       "        vertical-align: middle;\n",
       "    }\n",
       "\n",
       "    .dataframe tbody tr th {\n",
       "        vertical-align: top;\n",
       "    }\n",
       "\n",
       "    .dataframe thead th {\n",
       "        text-align: right;\n",
       "    }\n",
       "</style>\n",
       "<table border=\"1\" class=\"dataframe\">\n",
       "  <thead>\n",
       "    <tr style=\"text-align: right;\">\n",
       "      <th></th>\n",
       "      <th>GT</th>\n",
       "      <th>Unnamed: 5</th>\n",
       "      <th>Unnamed: 7</th>\n",
       "      <th>Unnamed: 8</th>\n",
       "      <th>Unnamed: 9</th>\n",
       "      <th>LAT</th>\n",
       "      <th>Unnamed: 11</th>\n",
       "      <th>Unnamed: 12</th>\n",
       "      <th>Unnamed: 15</th>\n",
       "      <th>Unnamed: 16</th>\n",
       "      <th>LON</th>\n",
       "      <th>Unnamed: 18</th>\n",
       "      <th>Unnamed: 19</th>\n",
       "      <th>Unnamed: 20</th>\n",
       "      <th>Unnamed: 21</th>\n",
       "      <th>Unnamed: 22</th>\n",
       "      <th>DEPTH</th>\n",
       "      <th>Q</th>\n",
       "      <th>Unnamed: 25</th>\n",
       "      <th>EVID</th>\n",
       "      <th>Unnamed: 27</th>\n",
       "      <th>Unnamed: 28</th>\n",
       "      <th>Unnamed: 29</th>\n",
       "      <th>Unnamed: 30</th>\n",
       "      <th>Unnamed: 31</th>\n",
       "      <th>NPH</th>\n",
       "      <th>NGRM</th>\n",
       "    </tr>\n",
       "  </thead>\n",
       "  <tbody>\n",
       "    <tr>\n",
       "      <th>count</th>\n",
       "      <td>0.0</td>\n",
       "      <td>70798.000000</td>\n",
       "      <td>0.0</td>\n",
       "      <td>0.0</td>\n",
       "      <td>70798.000000</td>\n",
       "      <td>70798.00000</td>\n",
       "      <td>0.0</td>\n",
       "      <td>9648.000000</td>\n",
       "      <td>7.359000e+03</td>\n",
       "      <td>4.628900e+04</td>\n",
       "      <td>14096.000000</td>\n",
       "      <td>10889.000000</td>\n",
       "      <td>43932.000000</td>\n",
       "      <td>21302.000000</td>\n",
       "      <td>33735.000000</td>\n",
       "      <td>18080.000000</td>\n",
       "      <td>12705.000000</td>\n",
       "      <td>3387.000000</td>\n",
       "      <td>469.000000</td>\n",
       "      <td>2.000000</td>\n",
       "      <td>0.0</td>\n",
       "      <td>0.0</td>\n",
       "      <td>0.0</td>\n",
       "      <td>0.0</td>\n",
       "      <td>0.0</td>\n",
       "      <td>0.0</td>\n",
       "      <td>0.0</td>\n",
       "    </tr>\n",
       "    <tr>\n",
       "      <th>mean</th>\n",
       "      <td>NaN</td>\n",
       "      <td>2.417826</td>\n",
       "      <td>NaN</td>\n",
       "      <td>NaN</td>\n",
       "      <td>33.977749</td>\n",
       "      <td>-116.88145</td>\n",
       "      <td>NaN</td>\n",
       "      <td>13.354343</td>\n",
       "      <td>6.097558e+06</td>\n",
       "      <td>4.482677e+06</td>\n",
       "      <td>524649.772205</td>\n",
       "      <td>16307.082193</td>\n",
       "      <td>43.634321</td>\n",
       "      <td>141.903530</td>\n",
       "      <td>203.562443</td>\n",
       "      <td>78.426383</td>\n",
       "      <td>55.085714</td>\n",
       "      <td>43.415412</td>\n",
       "      <td>14.746269</td>\n",
       "      <td>7.000000</td>\n",
       "      <td>NaN</td>\n",
       "      <td>NaN</td>\n",
       "      <td>NaN</td>\n",
       "      <td>NaN</td>\n",
       "      <td>NaN</td>\n",
       "      <td>NaN</td>\n",
       "      <td>NaN</td>\n",
       "    </tr>\n",
       "    <tr>\n",
       "      <th>std</th>\n",
       "      <td>NaN</td>\n",
       "      <td>0.407683</td>\n",
       "      <td>NaN</td>\n",
       "      <td>NaN</td>\n",
       "      <td>1.156586</td>\n",
       "      <td>1.07667</td>\n",
       "      <td>NaN</td>\n",
       "      <td>2.724517</td>\n",
       "      <td>4.441852e+06</td>\n",
       "      <td>3.130379e+06</td>\n",
       "      <td>281055.136911</td>\n",
       "      <td>25237.230734</td>\n",
       "      <td>121.795817</td>\n",
       "      <td>311.415589</td>\n",
       "      <td>155.337382</td>\n",
       "      <td>56.105321</td>\n",
       "      <td>30.519535</td>\n",
       "      <td>24.266088</td>\n",
       "      <td>17.013243</td>\n",
       "      <td>2.828427</td>\n",
       "      <td>NaN</td>\n",
       "      <td>NaN</td>\n",
       "      <td>NaN</td>\n",
       "      <td>NaN</td>\n",
       "      <td>NaN</td>\n",
       "      <td>NaN</td>\n",
       "      <td>NaN</td>\n",
       "    </tr>\n",
       "    <tr>\n",
       "      <th>min</th>\n",
       "      <td>NaN</td>\n",
       "      <td>2.000000</td>\n",
       "      <td>NaN</td>\n",
       "      <td>NaN</td>\n",
       "      <td>30.094830</td>\n",
       "      <td>-121.76000</td>\n",
       "      <td>NaN</td>\n",
       "      <td>10.000000</td>\n",
       "      <td>1.000432e+06</td>\n",
       "      <td>1.070000e+02</td>\n",
       "      <td>10.000000</td>\n",
       "      <td>0.000000</td>\n",
       "      <td>0.000000</td>\n",
       "      <td>0.000000</td>\n",
       "      <td>0.000000</td>\n",
       "      <td>0.000000</td>\n",
       "      <td>0.000000</td>\n",
       "      <td>0.000000</td>\n",
       "      <td>0.000000</td>\n",
       "      <td>5.000000</td>\n",
       "      <td>NaN</td>\n",
       "      <td>NaN</td>\n",
       "      <td>NaN</td>\n",
       "      <td>NaN</td>\n",
       "      <td>NaN</td>\n",
       "      <td>NaN</td>\n",
       "      <td>NaN</td>\n",
       "    </tr>\n",
       "    <tr>\n",
       "      <th>25%</th>\n",
       "      <td>NaN</td>\n",
       "      <td>2.120000</td>\n",
       "      <td>NaN</td>\n",
       "      <td>NaN</td>\n",
       "      <td>33.061000</td>\n",
       "      <td>-117.69200</td>\n",
       "      <td>NaN</td>\n",
       "      <td>11.200000</td>\n",
       "      <td>3.041641e+06</td>\n",
       "      <td>3.031237e+06</td>\n",
       "      <td>136998.250000</td>\n",
       "      <td>27.000000</td>\n",
       "      <td>18.000000</td>\n",
       "      <td>14.000000</td>\n",
       "      <td>113.000000</td>\n",
       "      <td>48.000000</td>\n",
       "      <td>33.000000</td>\n",
       "      <td>24.000000</td>\n",
       "      <td>0.000000</td>\n",
       "      <td>6.000000</td>\n",
       "      <td>NaN</td>\n",
       "      <td>NaN</td>\n",
       "      <td>NaN</td>\n",
       "      <td>NaN</td>\n",
       "      <td>NaN</td>\n",
       "      <td>NaN</td>\n",
       "      <td>NaN</td>\n",
       "    </tr>\n",
       "    <tr>\n",
       "      <th>50%</th>\n",
       "      <td>NaN</td>\n",
       "      <td>2.300000</td>\n",
       "      <td>NaN</td>\n",
       "      <td>NaN</td>\n",
       "      <td>34.056750</td>\n",
       "      <td>-116.59000</td>\n",
       "      <td>NaN</td>\n",
       "      <td>12.800000</td>\n",
       "      <td>3.229114e+06</td>\n",
       "      <td>3.110080e+06</td>\n",
       "      <td>703081.500000</td>\n",
       "      <td>57.000000</td>\n",
       "      <td>28.000000</td>\n",
       "      <td>23.000000</td>\n",
       "      <td>168.000000</td>\n",
       "      <td>70.000000</td>\n",
       "      <td>50.000000</td>\n",
       "      <td>38.000000</td>\n",
       "      <td>13.000000</td>\n",
       "      <td>7.000000</td>\n",
       "      <td>NaN</td>\n",
       "      <td>NaN</td>\n",
       "      <td>NaN</td>\n",
       "      <td>NaN</td>\n",
       "      <td>NaN</td>\n",
       "      <td>NaN</td>\n",
       "      <td>NaN</td>\n",
       "    </tr>\n",
       "    <tr>\n",
       "      <th>75%</th>\n",
       "      <td>NaN</td>\n",
       "      <td>2.590000</td>\n",
       "      <td>NaN</td>\n",
       "      <td>NaN</td>\n",
       "      <td>34.591000</td>\n",
       "      <td>-116.25100</td>\n",
       "      <td>NaN</td>\n",
       "      <td>14.900000</td>\n",
       "      <td>9.669999e+06</td>\n",
       "      <td>9.027968e+06</td>\n",
       "      <td>725926.500000</td>\n",
       "      <td>37764.000000</td>\n",
       "      <td>42.000000</td>\n",
       "      <td>137.000000</td>\n",
       "      <td>294.000000</td>\n",
       "      <td>92.000000</td>\n",
       "      <td>71.000000</td>\n",
       "      <td>61.000000</td>\n",
       "      <td>24.000000</td>\n",
       "      <td>8.000000</td>\n",
       "      <td>NaN</td>\n",
       "      <td>NaN</td>\n",
       "      <td>NaN</td>\n",
       "      <td>NaN</td>\n",
       "      <td>NaN</td>\n",
       "      <td>NaN</td>\n",
       "      <td>NaN</td>\n",
       "    </tr>\n",
       "    <tr>\n",
       "      <th>max</th>\n",
       "      <td>NaN</td>\n",
       "      <td>7.100000</td>\n",
       "      <td>NaN</td>\n",
       "      <td>NaN</td>\n",
       "      <td>37.985500</td>\n",
       "      <td>-113.71900</td>\n",
       "      <td>NaN</td>\n",
       "      <td>29.300000</td>\n",
       "      <td>3.736673e+07</td>\n",
       "      <td>9.875061e+06</td>\n",
       "      <td>754723.000000</td>\n",
       "      <td>71774.000000</td>\n",
       "      <td>3384.000000</td>\n",
       "      <td>3815.000000</td>\n",
       "      <td>1574.000000</td>\n",
       "      <td>996.000000</td>\n",
       "      <td>227.000000</td>\n",
       "      <td>145.000000</td>\n",
       "      <td>88.000000</td>\n",
       "      <td>9.000000</td>\n",
       "      <td>NaN</td>\n",
       "      <td>NaN</td>\n",
       "      <td>NaN</td>\n",
       "      <td>NaN</td>\n",
       "      <td>NaN</td>\n",
       "      <td>NaN</td>\n",
       "      <td>NaN</td>\n",
       "    </tr>\n",
       "  </tbody>\n",
       "</table>\n",
       "</div>"
      ],
      "text/plain": [
       "        GT    Unnamed: 5  Unnamed: 7  ...  Unnamed: 31  NPH  NGRM\n",
       "count  0.0  70798.000000         0.0  ...          0.0  0.0   0.0\n",
       "mean   NaN      2.417826         NaN  ...          NaN  NaN   NaN\n",
       "std    NaN      0.407683         NaN  ...          NaN  NaN   NaN\n",
       "min    NaN      2.000000         NaN  ...          NaN  NaN   NaN\n",
       "25%    NaN      2.120000         NaN  ...          NaN  NaN   NaN\n",
       "50%    NaN      2.300000         NaN  ...          NaN  NaN   NaN\n",
       "75%    NaN      2.590000         NaN  ...          NaN  NaN   NaN\n",
       "max    NaN      7.100000         NaN  ...          NaN  NaN   NaN\n",
       "\n",
       "[8 rows x 27 columns]"
      ]
     },
     "execution_count": 8,
     "metadata": {
      "tags": []
     },
     "output_type": "execute_result"
    }
   ],
   "source": [
    "eqdata.describe()"
   ]
  },
  {
   "cell_type": "markdown",
   "metadata": {
    "ExecuteTime": {
     "end_time": "2019-09-08T21:24:56.161634Z",
     "start_time": "2019-09-08T21:24:56.157793Z"
    },
    "colab_type": "text",
    "id": "08Ty-hUOhXsG"
   },
   "source": [
    "now that you have a dataframe object you can use methods of the object to modify it. Use the method ```eqdata.rename``` to change the names of the 3 columns that are the only three relevant to us: _date, time, magnitude_"
   ]
  },
  {
   "cell_type": "markdown",
   "metadata": {
    "colab_type": "text",
    "id": "dYP53BzDhXsG"
   },
   "source": [
    "## prepare date-time column"
   ]
  },
  {
   "cell_type": "code",
   "execution_count": 0,
   "metadata": {
    "ExecuteTime": {
     "end_time": "2019-09-09T01:40:02.791776Z",
     "start_time": "2019-09-09T01:40:02.761489Z"
    },
    "colab": {},
    "colab_type": "code",
    "id": "WFIPxVG_hXsH"
   },
   "outputs": [],
   "source": [
    "eqdata=eqdata.rename(columns={'#YYY/MM/DD':'date','HH:mm:SS.ss':'time','Unnamed: 5':'magnitude'})"
   ]
  },
  {
   "cell_type": "code",
   "execution_count": 0,
   "metadata": {
    "colab": {},
    "colab_type": "code",
    "id": "rWI-Y0lErzD9"
   },
   "outputs": [],
   "source": [
    "eqdata=eqdata[['date','time','magnitude']]"
   ]
  },
  {
   "cell_type": "code",
   "execution_count": 11,
   "metadata": {
    "ExecuteTime": {
     "end_time": "2019-09-09T01:40:02.800191Z",
     "start_time": "2019-09-09T01:40:02.793424Z"
    },
    "colab": {
     "base_uri": "https://localhost:8080/",
     "height": 204
    },
    "colab_type": "code",
    "id": "vZ-NJ-C2hXsJ",
    "outputId": "47ccbda9-66c9-4502-8b11-8639b6d90f0d",
    "scrolled": true
   },
   "outputs": [
    {
     "data": {
      "text/html": [
       "<div>\n",
       "<style scoped>\n",
       "    .dataframe tbody tr th:only-of-type {\n",
       "        vertical-align: middle;\n",
       "    }\n",
       "\n",
       "    .dataframe tbody tr th {\n",
       "        vertical-align: top;\n",
       "    }\n",
       "\n",
       "    .dataframe thead th {\n",
       "        text-align: right;\n",
       "    }\n",
       "</style>\n",
       "<table border=\"1\" class=\"dataframe\">\n",
       "  <thead>\n",
       "    <tr style=\"text-align: right;\">\n",
       "      <th></th>\n",
       "      <th>date</th>\n",
       "      <th>time</th>\n",
       "      <th>magnitude</th>\n",
       "    </tr>\n",
       "  </thead>\n",
       "  <tbody>\n",
       "    <tr>\n",
       "      <th>0</th>\n",
       "      <td>1984/01/01</td>\n",
       "      <td>01:30:57.52</td>\n",
       "      <td>2.02</td>\n",
       "    </tr>\n",
       "    <tr>\n",
       "      <th>1</th>\n",
       "      <td>1984/01/01</td>\n",
       "      <td>05:31:34.16</td>\n",
       "      <td>2.12</td>\n",
       "    </tr>\n",
       "    <tr>\n",
       "      <th>2</th>\n",
       "      <td>1984/01/01</td>\n",
       "      <td>06:59:05.14</td>\n",
       "      <td>2.43</td>\n",
       "    </tr>\n",
       "    <tr>\n",
       "      <th>3</th>\n",
       "      <td>1984/01/01</td>\n",
       "      <td>11:10:25.29</td>\n",
       "      <td>2.07</td>\n",
       "    </tr>\n",
       "    <tr>\n",
       "      <th>4</th>\n",
       "      <td>1984/01/01</td>\n",
       "      <td>19:38:19.79</td>\n",
       "      <td>2.13</td>\n",
       "    </tr>\n",
       "  </tbody>\n",
       "</table>\n",
       "</div>"
      ],
      "text/plain": [
       "         date         time  magnitude\n",
       "0  1984/01/01  01:30:57.52       2.02\n",
       "1  1984/01/01  05:31:34.16       2.12\n",
       "2  1984/01/01  06:59:05.14       2.43\n",
       "3  1984/01/01  11:10:25.29       2.07\n",
       "4  1984/01/01  19:38:19.79       2.13"
      ]
     },
     "execution_count": 11,
     "metadata": {
      "tags": []
     },
     "output_type": "execute_result"
    }
   ],
   "source": [
    "eqdata.head()"
   ]
  },
  {
   "cell_type": "code",
   "execution_count": 12,
   "metadata": {
    "ExecuteTime": {
     "end_time": "2019-09-09T01:40:02.813328Z",
     "start_time": "2019-09-09T01:40:02.801494Z"
    },
    "colab": {
     "base_uri": "https://localhost:8080/",
     "height": 297
    },
    "colab_type": "code",
    "id": "BQHplE_shXsL",
    "outputId": "d852849d-978a-4fe1-b1e5-dac972971816"
   },
   "outputs": [
    {
     "data": {
      "text/html": [
       "<div>\n",
       "<style scoped>\n",
       "    .dataframe tbody tr th:only-of-type {\n",
       "        vertical-align: middle;\n",
       "    }\n",
       "\n",
       "    .dataframe tbody tr th {\n",
       "        vertical-align: top;\n",
       "    }\n",
       "\n",
       "    .dataframe thead th {\n",
       "        text-align: right;\n",
       "    }\n",
       "</style>\n",
       "<table border=\"1\" class=\"dataframe\">\n",
       "  <thead>\n",
       "    <tr style=\"text-align: right;\">\n",
       "      <th></th>\n",
       "      <th>magnitude</th>\n",
       "    </tr>\n",
       "  </thead>\n",
       "  <tbody>\n",
       "    <tr>\n",
       "      <th>count</th>\n",
       "      <td>70798.000000</td>\n",
       "    </tr>\n",
       "    <tr>\n",
       "      <th>mean</th>\n",
       "      <td>2.417826</td>\n",
       "    </tr>\n",
       "    <tr>\n",
       "      <th>std</th>\n",
       "      <td>0.407683</td>\n",
       "    </tr>\n",
       "    <tr>\n",
       "      <th>min</th>\n",
       "      <td>2.000000</td>\n",
       "    </tr>\n",
       "    <tr>\n",
       "      <th>25%</th>\n",
       "      <td>2.120000</td>\n",
       "    </tr>\n",
       "    <tr>\n",
       "      <th>50%</th>\n",
       "      <td>2.300000</td>\n",
       "    </tr>\n",
       "    <tr>\n",
       "      <th>75%</th>\n",
       "      <td>2.590000</td>\n",
       "    </tr>\n",
       "    <tr>\n",
       "      <th>max</th>\n",
       "      <td>7.100000</td>\n",
       "    </tr>\n",
       "  </tbody>\n",
       "</table>\n",
       "</div>"
      ],
      "text/plain": [
       "          magnitude\n",
       "count  70798.000000\n",
       "mean       2.417826\n",
       "std        0.407683\n",
       "min        2.000000\n",
       "25%        2.120000\n",
       "50%        2.300000\n",
       "75%        2.590000\n",
       "max        7.100000"
      ]
     },
     "execution_count": 12,
     "metadata": {
      "tags": []
     },
     "output_type": "execute_result"
    }
   ],
   "source": [
    "eqdata.describe()"
   ]
  },
  {
   "cell_type": "markdown",
   "metadata": {
    "colab_type": "text",
    "id": "EMiRblXihXsN"
   },
   "source": [
    "Now you want to combine the columns containing date and time and convert them to a \"datetime\" kind of data object. \n"
   ]
  },
  {
   "cell_type": "markdown",
   "metadata": {
    "ExecuteTime": {
     "end_time": "2019-09-08T21:26:57.438903Z",
     "start_time": "2019-09-08T21:26:57.435133Z"
    },
    "colab_type": "text",
    "id": "ZPOv1TJihXsN"
   },
   "source": [
    "What data type are the _time_ and _date_ columns right now? What tyoe you want them to be to conver them to datetime with ```pd.datetime()```?"
   ]
  },
  {
   "cell_type": "code",
   "execution_count": 13,
   "metadata": {
    "ExecuteTime": {
     "end_time": "2019-09-09T01:40:02.859962Z",
     "start_time": "2019-09-09T01:40:02.856654Z"
    },
    "colab": {
     "base_uri": "https://localhost:8080/",
     "height": 34
    },
    "colab_type": "code",
    "id": "sqfVbxyYhXsO",
    "outputId": "98f988fb-c937-4284-f923-2a51935b9e47"
   },
   "outputs": [
    {
     "data": {
      "text/plain": [
       "(dtype('O'), dtype('O'))"
      ]
     },
     "execution_count": 13,
     "metadata": {
      "tags": []
     },
     "output_type": "execute_result"
    }
   ],
   "source": [
    "eqdata.time.dtype, eqdata.date.dtype"
   ]
  },
  {
   "cell_type": "code",
   "execution_count": 14,
   "metadata": {
    "colab": {
     "base_uri": "https://localhost:8080/",
     "height": 204
    },
    "colab_type": "code",
    "id": "N2ZUiHq-TDXv",
    "outputId": "cf090f40-0de5-4b55-d0e3-1b7201689a0c"
   },
   "outputs": [
    {
     "data": {
      "text/html": [
       "<div>\n",
       "<style scoped>\n",
       "    .dataframe tbody tr th:only-of-type {\n",
       "        vertical-align: middle;\n",
       "    }\n",
       "\n",
       "    .dataframe tbody tr th {\n",
       "        vertical-align: top;\n",
       "    }\n",
       "\n",
       "    .dataframe thead th {\n",
       "        text-align: right;\n",
       "    }\n",
       "</style>\n",
       "<table border=\"1\" class=\"dataframe\">\n",
       "  <thead>\n",
       "    <tr style=\"text-align: right;\">\n",
       "      <th></th>\n",
       "      <th>date</th>\n",
       "      <th>time</th>\n",
       "      <th>magnitude</th>\n",
       "      <th>Datetime</th>\n",
       "    </tr>\n",
       "  </thead>\n",
       "  <tbody>\n",
       "    <tr>\n",
       "      <th>0</th>\n",
       "      <td>1984/01/01</td>\n",
       "      <td>01:30:57.52</td>\n",
       "      <td>2.02</td>\n",
       "      <td>1984/01/01 01:30:57.52</td>\n",
       "    </tr>\n",
       "    <tr>\n",
       "      <th>1</th>\n",
       "      <td>1984/01/01</td>\n",
       "      <td>05:31:34.16</td>\n",
       "      <td>2.12</td>\n",
       "      <td>1984/01/01 05:31:34.16</td>\n",
       "    </tr>\n",
       "    <tr>\n",
       "      <th>2</th>\n",
       "      <td>1984/01/01</td>\n",
       "      <td>06:59:05.14</td>\n",
       "      <td>2.43</td>\n",
       "      <td>1984/01/01 06:59:05.14</td>\n",
       "    </tr>\n",
       "    <tr>\n",
       "      <th>3</th>\n",
       "      <td>1984/01/01</td>\n",
       "      <td>11:10:25.29</td>\n",
       "      <td>2.07</td>\n",
       "      <td>1984/01/01 11:10:25.29</td>\n",
       "    </tr>\n",
       "    <tr>\n",
       "      <th>4</th>\n",
       "      <td>1984/01/01</td>\n",
       "      <td>19:38:19.79</td>\n",
       "      <td>2.13</td>\n",
       "      <td>1984/01/01 19:38:19.79</td>\n",
       "    </tr>\n",
       "  </tbody>\n",
       "</table>\n",
       "</div>"
      ],
      "text/plain": [
       "         date         time  magnitude                Datetime\n",
       "0  1984/01/01  01:30:57.52       2.02  1984/01/01 01:30:57.52\n",
       "1  1984/01/01  05:31:34.16       2.12  1984/01/01 05:31:34.16\n",
       "2  1984/01/01  06:59:05.14       2.43  1984/01/01 06:59:05.14\n",
       "3  1984/01/01  11:10:25.29       2.07  1984/01/01 11:10:25.29\n",
       "4  1984/01/01  19:38:19.79       2.13  1984/01/01 19:38:19.79"
      ]
     },
     "execution_count": 14,
     "metadata": {
      "tags": []
     },
     "output_type": "execute_result"
    }
   ],
   "source": [
    "# combining date and time columns\n",
    "eqdata[\"Datetime\"] = (eqdata.date +\" \"+ eqdata.time)\n",
    "eqdata.head()"
   ]
  },
  {
   "cell_type": "markdown",
   "metadata": {
    "ExecuteTime": {
     "end_time": "2019-09-08T21:28:58.082172Z",
     "start_time": "2019-09-08T21:28:58.078926Z"
    },
    "colab_type": "text",
    "id": "O9qP9mRShXsP"
   },
   "source": [
    "to do this conversion I \n",
    "\n",
    "   1 joined date and time into a single string for each row with a [\"list comprehension\"](https://www.pythonforbeginners.com/basics/list-comprehensions-in-python) (essentially a for loop but more efficient and compact). You do not have to do it with a list comprehension, you can use just a for loop.\n",
    "\n",
    "   2 used pd.datetime() to convert the resulting new dataframe column into a dataframe column containing _datetime_ objects (see lab)\n",
    "\n",
    "   3 but this did not work because of the formatting of some dates, so I had to go back and fix 5 entries. (you are on your own to figure out this one)"
   ]
  },
  {
   "cell_type": "code",
   "execution_count": 15,
   "metadata": {
    "colab": {
     "base_uri": "https://localhost:8080/",
     "height": 34
    },
    "colab_type": "code",
    "id": "6WXz8qP6GwSp",
    "outputId": "712896fa-f105-4bb8-f844-407db9b3e3c6"
   },
   "outputs": [
    {
     "data": {
      "text/plain": [
       "'\\nfor i in range(0,70798):\\n  print(i)\\n  eqdata[\\'datetime\\'] = pd.to_datetime(eqdata[\"Datetime\"][i], infer_datetime_format=True)'"
      ]
     },
     "execution_count": 15,
     "metadata": {
      "tags": []
     },
     "output_type": "execute_result"
    }
   ],
   "source": [
    "#code used to catch the rows with 60 seconds. This code stops everytime it encounters an error.\n",
    "'''\n",
    "for i in range(0,70798):\n",
    "  print(i)\n",
    "  eqdata['datetime'] = pd.to_datetime(eqdata[\"Datetime\"][i], infer_datetime_format=True)'''\n",
    "#DATA rows edited 1725, 25540, 34229, 50213, 59505\n",
    "  "
   ]
  },
  {
   "cell_type": "code",
   "execution_count": 0,
   "metadata": {
    "colab": {},
    "colab_type": "code",
    "id": "rNxUXUrmadEo"
   },
   "outputs": [],
   "source": [
    "eqdata['datetime'] = pd.to_datetime(eqdata[\"Datetime\"], infer_datetime_format=True)\n",
    "eqdata=eqdata[['date','time','magnitude','datetime']]"
   ]
  },
  {
   "cell_type": "code",
   "execution_count": 17,
   "metadata": {
    "ExecuteTime": {
     "end_time": "2019-09-09T01:40:29.216627Z",
     "start_time": "2019-09-09T01:40:29.206374Z"
    },
    "colab": {
     "base_uri": "https://localhost:8080/",
     "height": 204
    },
    "colab_type": "code",
    "id": "o9PeG5J5hXsU",
    "outputId": "f98f67a6-f64d-4645-bdd6-91be0ff88595"
   },
   "outputs": [
    {
     "data": {
      "text/html": [
       "<div>\n",
       "<style scoped>\n",
       "    .dataframe tbody tr th:only-of-type {\n",
       "        vertical-align: middle;\n",
       "    }\n",
       "\n",
       "    .dataframe tbody tr th {\n",
       "        vertical-align: top;\n",
       "    }\n",
       "\n",
       "    .dataframe thead th {\n",
       "        text-align: right;\n",
       "    }\n",
       "</style>\n",
       "<table border=\"1\" class=\"dataframe\">\n",
       "  <thead>\n",
       "    <tr style=\"text-align: right;\">\n",
       "      <th></th>\n",
       "      <th>date</th>\n",
       "      <th>time</th>\n",
       "      <th>magnitude</th>\n",
       "      <th>datetime</th>\n",
       "    </tr>\n",
       "  </thead>\n",
       "  <tbody>\n",
       "    <tr>\n",
       "      <th>0</th>\n",
       "      <td>1984/01/01</td>\n",
       "      <td>01:30:57.52</td>\n",
       "      <td>2.02</td>\n",
       "      <td>1984-01-01 01:30:57.520</td>\n",
       "    </tr>\n",
       "    <tr>\n",
       "      <th>1</th>\n",
       "      <td>1984/01/01</td>\n",
       "      <td>05:31:34.16</td>\n",
       "      <td>2.12</td>\n",
       "      <td>1984-01-01 05:31:34.160</td>\n",
       "    </tr>\n",
       "    <tr>\n",
       "      <th>2</th>\n",
       "      <td>1984/01/01</td>\n",
       "      <td>06:59:05.14</td>\n",
       "      <td>2.43</td>\n",
       "      <td>1984-01-01 06:59:05.140</td>\n",
       "    </tr>\n",
       "    <tr>\n",
       "      <th>3</th>\n",
       "      <td>1984/01/01</td>\n",
       "      <td>11:10:25.29</td>\n",
       "      <td>2.07</td>\n",
       "      <td>1984-01-01 11:10:25.290</td>\n",
       "    </tr>\n",
       "    <tr>\n",
       "      <th>4</th>\n",
       "      <td>1984/01/01</td>\n",
       "      <td>19:38:19.79</td>\n",
       "      <td>2.13</td>\n",
       "      <td>1984-01-01 19:38:19.790</td>\n",
       "    </tr>\n",
       "  </tbody>\n",
       "</table>\n",
       "</div>"
      ],
      "text/plain": [
       "         date         time  magnitude                datetime\n",
       "0  1984/01/01  01:30:57.52       2.02 1984-01-01 01:30:57.520\n",
       "1  1984/01/01  05:31:34.16       2.12 1984-01-01 05:31:34.160\n",
       "2  1984/01/01  06:59:05.14       2.43 1984-01-01 06:59:05.140\n",
       "3  1984/01/01  11:10:25.29       2.07 1984-01-01 11:10:25.290\n",
       "4  1984/01/01  19:38:19.79       2.13 1984-01-01 19:38:19.790"
      ]
     },
     "execution_count": 17,
     "metadata": {
      "tags": []
     },
     "output_type": "execute_result"
    }
   ],
   "source": [
    "eqdata.head()"
   ]
  },
  {
   "cell_type": "markdown",
   "metadata": {
    "colab_type": "text",
    "id": "zAmaMzQIhXsW"
   },
   "source": [
    "## select valuable data"
   ]
  },
  {
   "cell_type": "markdown",
   "metadata": {
    "colab_type": "text",
    "id": "R3kga7VvhXsZ"
   },
   "source": [
    "Following the description in Section 2  of Corral 2018 I removed all data that did not belong to a \"stationary\" period. Third paragraph section 2 of Corral 2018. You can see the cell of code I used to do this [here](https://github.com/fedhere/DSPS/blob/master/HW3/Corral2018_selectStationary.py) at no points cost, cause it was a bit tricky, but I encourage you to try and do it yourself. If you can do it in fewer lines than I did its automatically +5 points (just turning the loop into a list comprehension does not count. That is an obvious way to decrease the number of lines of code; I did not do it simply to enhance readability.)"
   ]
  },
  {
   "cell_type": "code",
   "execution_count": 0,
   "metadata": {
    "ExecuteTime": {
     "end_time": "2019-09-09T01:40:29.230993Z",
     "start_time": "2019-09-09T01:40:29.219163Z"
    },
    "colab": {},
    "colab_type": "code",
    "id": "tQRj4CAEhXsZ"
   },
   "outputs": [],
   "source": [
    "############\n",
    "# create empty container\n",
    "ss = []\n",
    "\n",
    "# loop through all year pairs as year and fraction of year\n",
    "for t in [(1984, 1986.5), \n",
    "          (1990.3, 1992.1), \n",
    "          (1994.6, 1995.6),\n",
    "          (1996.1,1996.5), \n",
    "          (1997,1997.6), \n",
    "          (1997.75,1998.15), \n",
    "          (1998.25,1999.35), \n",
    "          (2000.55,2000.8),\n",
    "          (2000.9 ,2001.25), \n",
    "          (2001.6 ,2002), \n",
    "          (2002.5 ,2003)]:\n",
    "    \n",
    "    # for each pair I convert the year to datetime (easy)\n",
    "    # then I convert the fraction of year and convert it to days and convert that to a delta-time\n",
    "    # finally I add that deltatime to the year datetime. \n",
    "    ss.append((pd.to_datetime(int(t[0]), format=\"%Y\") \n",
    "        + pd.Timedelta('%.f days'%((t[0] - int(t[0])) * 365.25)),\n",
    "               pd.to_datetime(int(t[1]), format=\"%Y\") \n",
    "        + pd.Timedelta('%.f days'%((t[1] - int(t[1])) * 365.25))))\n",
    "\n",
    "\n"
   ]
  },
  {
   "cell_type": "code",
   "execution_count": 20,
   "metadata": {
    "ExecuteTime": {
     "end_time": "2019-09-09T01:40:29.237879Z",
     "start_time": "2019-09-09T01:40:29.232647Z"
    },
    "colab": {
     "base_uri": "https://localhost:8080/",
     "height": 34
    },
    "colab_type": "code",
    "id": "qPmYVGWbhXsb",
    "outputId": "82245693-e460-41ce-d715-bb76e5ccd0bb"
   },
   "outputs": [
    {
     "name": "stdout",
     "output_type": "stream",
     "text": [
      "the 11 timestamp pairs that are the boundaries of good data periods are:\n"
     ]
    }
   ],
   "source": [
    "print (\"the {} timestamp pairs that are the boundaries of good data periods are:\".format(len(ss)))\n",
    "\n"
   ]
  },
  {
   "cell_type": "markdown",
   "metadata": {
    "colab_type": "text",
    "id": "-470BeBahXsd"
   },
   "source": [
    "The following cell of code shows you the array of bool values (True/False) which I create to use as an index to the input array: when used as an index, a technique called \"broadcasting\" in python, will select only elements of the original array where the index array value is True. something like \n",
    "Try:\n",
    "\n"
   ]
  },
  {
   "cell_type": "code",
   "execution_count": 0,
   "metadata": {
    "ExecuteTime": {
     "end_time": "2019-09-09T01:40:29.244355Z",
     "start_time": "2019-09-09T01:40:29.239933Z"
    },
    "colab": {
     "base_uri": "https://localhost:8080/",
     "height": 34
    },
    "colab_type": "code",
    "id": "9wCXH-gfhXsf",
    "outputId": "27c22dfe-7720-48b9-c487-d6c616275916"
   },
   "outputs": [
    {
     "data": {
      "text/plain": [
       "(array([0, 1, 2]), array([0, 2]))"
      ]
     },
     "execution_count": 206,
     "metadata": {
      "tags": []
     },
     "output_type": "execute_result"
    }
   ],
   "source": [
    "a = np.array([0, 1, 2])\n",
    "a, a[[True, False, True]]"
   ]
  },
  {
   "cell_type": "markdown",
   "metadata": {
    "ExecuteTime": {
     "end_time": "2019-09-09T01:05:50.836953Z",
     "start_time": "2019-09-09T01:05:50.833542Z"
    },
    "colab_type": "text",
    "id": "jvZBr-_JhXsi"
   },
   "source": [
    "For each of the 11 valid periods I create a condition \n",
    "``` datetime >= period_start AND datetime <= period_end ``` where AND is a product of booleans: True * False = False.\n",
    "\n",
    "I want to take all chinks of data that satisfy this condition for any of the 11 chunks of time so that is a logical OR operator, or a sum of Booleans: True + False = True \n",
    "\n",
    "This is because ```True``` really corresponds to \"not 0\" and False to \"0\". So ```\"not 0\" * 0 = 0``` and ```\"not 0\" + 0 = not 0```\n",
    "    "
   ]
  },
  {
   "cell_type": "code",
   "execution_count": 21,
   "metadata": {
    "ExecuteTime": {
     "end_time": "2019-09-09T01:40:29.265629Z",
     "start_time": "2019-09-09T01:40:29.245537Z"
    },
    "colab": {
     "base_uri": "https://localhost:8080/",
     "height": 1000
    },
    "colab_type": "code",
    "id": "JGuY1EtzhXsj",
    "outputId": "906030b4-66ca-455c-ba54-14d5d8787680"
   },
   "outputs": [
    {
     "name": "stderr",
     "output_type": "stream",
     "text": [
      "/usr/local/lib/python2.7/dist-packages/pandas/core/computation/expressions.py:183: UserWarning: evaluating in Python space because the '*' operator is not supported by numexpr for the bool dtype, use '&' instead\n",
      "  .format(op=op_str, alt_op=unsupported[op_str]))\n",
      "/usr/local/lib/python2.7/dist-packages/pandas/core/computation/expressions.py:183: UserWarning: evaluating in Python space because the '+' operator is not supported by numexpr for the bool dtype, use '|' instead\n",
      "  .format(op=op_str, alt_op=unsupported[op_str]))\n"
     ]
    },
    {
     "data": {
      "text/plain": [
       "0        True\n",
       "1        True\n",
       "2        True\n",
       "3        True\n",
       "4        True\n",
       "5        True\n",
       "6        True\n",
       "7        True\n",
       "8        True\n",
       "9        True\n",
       "10       True\n",
       "11       True\n",
       "12       True\n",
       "13       True\n",
       "14       True\n",
       "15       True\n",
       "16       True\n",
       "17       True\n",
       "18       True\n",
       "19       True\n",
       "20       True\n",
       "21       True\n",
       "22       True\n",
       "23       True\n",
       "24       True\n",
       "25       True\n",
       "26       True\n",
       "27       True\n",
       "28       True\n",
       "29       True\n",
       "         ... \n",
       "70768    True\n",
       "70769    True\n",
       "70770    True\n",
       "70771    True\n",
       "70772    True\n",
       "70773    True\n",
       "70774    True\n",
       "70775    True\n",
       "70776    True\n",
       "70777    True\n",
       "70778    True\n",
       "70779    True\n",
       "70780    True\n",
       "70781    True\n",
       "70782    True\n",
       "70783    True\n",
       "70784    True\n",
       "70785    True\n",
       "70786    True\n",
       "70787    True\n",
       "70788    True\n",
       "70789    True\n",
       "70790    True\n",
       "70791    True\n",
       "70792    True\n",
       "70793    True\n",
       "70794    True\n",
       "70795    True\n",
       "70796    True\n",
       "70797    True\n",
       "Name: datetime, Length: 70798, dtype: bool"
      ]
     },
     "execution_count": 21,
     "metadata": {
      "tags": []
     },
     "output_type": "execute_result"
    }
   ],
   "source": [
    "############\n",
    "# data between start and end of first time period\n",
    "gooddates = (((eqdata.datetime >= ss[0][0]) * (eqdata.datetime <= ss[0][1])) +\\\n",
    "        # data between start and end of second time period\n",
    "        ((eqdata.datetime >=ss [1][0]) * (eqdata.datetime <= ss[1][1])) +\\\n",
    "        ((eqdata.datetime >=ss [2][0]) * (eqdata.datetime <= ss[2][1])) +\\\n",
    "        ((eqdata.datetime >=ss [3][0]) * (eqdata.datetime <= ss[3][1])) +\\\n",
    "        ((eqdata.datetime >=ss [4][0]) * (eqdata.datetime <= ss[4][1])) +\\\n",
    "        ((eqdata.datetime >=ss [5][0]) * (eqdata.datetime <= ss[5][1])) +\\\n",
    "        ((eqdata.datetime >=ss [6][0]) * (eqdata.datetime <= ss[6][1])) +\\\n",
    "        ((eqdata.datetime >=ss [7][0]) * (eqdata.datetime <= ss[7][1])) +\\\n",
    "        ((eqdata.datetime >=ss [8][0]) * (eqdata.datetime <= ss[8][1])) +\\\n",
    "        ((eqdata.datetime >=ss [9][0]) * (eqdata.datetime <= ss[9][1])) +\\\n",
    "        # data between start and end of last time period\n",
    "        ((eqdata.datetime >=ss [10][0]) * (eqdata.datetime <= ss[10][1])\\\n",
    "        ).values)\n",
    "gooddates\n"
   ]
  },
  {
   "cell_type": "code",
   "execution_count": 22,
   "metadata": {
    "ExecuteTime": {
     "end_time": "2019-09-09T01:40:29.270985Z",
     "start_time": "2019-09-09T01:40:29.267738Z"
    },
    "colab": {
     "base_uri": "https://localhost:8080/",
     "height": 34
    },
    "colab_type": "code",
    "id": "WHyQm6CqhXsl",
    "outputId": "764d5cfb-05ec-44dc-fb8f-f4616e49dac6"
   },
   "outputs": [
    {
     "name": "stdout",
     "output_type": "stream",
     "text": [
      "there are 18852 earthquakes falling in the selected stationary periods\n"
     ]
    }
   ],
   "source": [
    "print (\"there are {} earthquakes falling in the selected stationary periods\".\n",
    "       format(gooddates.sum()))"
   ]
  },
  {
   "cell_type": "code",
   "execution_count": 0,
   "metadata": {
    "colab": {},
    "colab_type": "code",
    "id": "DZqekuQFn_cM"
   },
   "outputs": [],
   "source": [
    "# broadcasting to create a dataframe with the good dates only\n",
    "eqGoodData=eqdata[gooddates]"
   ]
  },
  {
   "cell_type": "code",
   "execution_count": 24,
   "metadata": {
    "ExecuteTime": {
     "end_time": "2019-09-09T01:40:29.277256Z",
     "start_time": "2019-09-09T01:40:29.272901Z"
    },
    "colab": {
     "base_uri": "https://localhost:8080/",
     "height": 34
    },
    "colab_type": "code",
    "id": "K7iYLowuhXsm",
    "outputId": "6ad40fbb-e159-4ddc-d7e2-b2cbb91951c1"
   },
   "outputs": [
    {
     "data": {
      "text/plain": [
       "(18852, 4)"
      ]
     },
     "execution_count": 24,
     "metadata": {
      "tags": []
     },
     "output_type": "execute_result"
    }
   ],
   "source": [
    "eqGoodData.shape"
   ]
  },
  {
   "cell_type": "code",
   "execution_count": 25,
   "metadata": {
    "ExecuteTime": {
     "end_time": "2019-09-09T01:40:29.287000Z",
     "start_time": "2019-09-09T01:40:29.279430Z"
    },
    "colab": {
     "base_uri": "https://localhost:8080/",
     "height": 204
    },
    "colab_type": "code",
    "id": "aMySvYb5hXso",
    "outputId": "6009af77-4199-4c13-fcbc-d87134258f35"
   },
   "outputs": [
    {
     "data": {
      "text/html": [
       "<div>\n",
       "<style scoped>\n",
       "    .dataframe tbody tr th:only-of-type {\n",
       "        vertical-align: middle;\n",
       "    }\n",
       "\n",
       "    .dataframe tbody tr th {\n",
       "        vertical-align: top;\n",
       "    }\n",
       "\n",
       "    .dataframe thead th {\n",
       "        text-align: right;\n",
       "    }\n",
       "</style>\n",
       "<table border=\"1\" class=\"dataframe\">\n",
       "  <thead>\n",
       "    <tr style=\"text-align: right;\">\n",
       "      <th></th>\n",
       "      <th>date</th>\n",
       "      <th>time</th>\n",
       "      <th>magnitude</th>\n",
       "      <th>datetime</th>\n",
       "    </tr>\n",
       "  </thead>\n",
       "  <tbody>\n",
       "    <tr>\n",
       "      <th>0</th>\n",
       "      <td>1984/01/01</td>\n",
       "      <td>01:30:57.52</td>\n",
       "      <td>2.02</td>\n",
       "      <td>1984-01-01 01:30:57.520</td>\n",
       "    </tr>\n",
       "    <tr>\n",
       "      <th>1</th>\n",
       "      <td>1984/01/01</td>\n",
       "      <td>05:31:34.16</td>\n",
       "      <td>2.12</td>\n",
       "      <td>1984-01-01 05:31:34.160</td>\n",
       "    </tr>\n",
       "    <tr>\n",
       "      <th>2</th>\n",
       "      <td>1984/01/01</td>\n",
       "      <td>06:59:05.14</td>\n",
       "      <td>2.43</td>\n",
       "      <td>1984-01-01 06:59:05.140</td>\n",
       "    </tr>\n",
       "    <tr>\n",
       "      <th>3</th>\n",
       "      <td>1984/01/01</td>\n",
       "      <td>11:10:25.29</td>\n",
       "      <td>2.07</td>\n",
       "      <td>1984-01-01 11:10:25.290</td>\n",
       "    </tr>\n",
       "    <tr>\n",
       "      <th>4</th>\n",
       "      <td>1984/01/01</td>\n",
       "      <td>19:38:19.79</td>\n",
       "      <td>2.13</td>\n",
       "      <td>1984-01-01 19:38:19.790</td>\n",
       "    </tr>\n",
       "  </tbody>\n",
       "</table>\n",
       "</div>"
      ],
      "text/plain": [
       "         date         time  magnitude                datetime\n",
       "0  1984/01/01  01:30:57.52       2.02 1984-01-01 01:30:57.520\n",
       "1  1984/01/01  05:31:34.16       2.12 1984-01-01 05:31:34.160\n",
       "2  1984/01/01  06:59:05.14       2.43 1984-01-01 06:59:05.140\n",
       "3  1984/01/01  11:10:25.29       2.07 1984-01-01 11:10:25.290\n",
       "4  1984/01/01  19:38:19.79       2.13 1984-01-01 19:38:19.790"
      ]
     },
     "execution_count": 25,
     "metadata": {
      "tags": []
     },
     "output_type": "execute_result"
    }
   ],
   "source": [
    "eqGoodData.head()"
   ]
  },
  {
   "cell_type": "markdown",
   "metadata": {
    "ExecuteTime": {
     "end_time": "2019-09-09T01:17:07.527314Z",
     "start_time": "2019-09-09T01:17:07.523165Z"
    },
    "colab_type": "text",
    "id": "P3MKC5tyhXsp"
   },
   "source": [
    "Now what you really want is the _time interval between earthquakes_ for all events greater than some magnitude m, while all you have are the date and time of the events.: \n",
    "\n",
    "You can remove earthquakes smaller than magnitude 2 by, again, broadcasting. How would that look like?"
   ]
  },
  {
   "cell_type": "code",
   "execution_count": 0,
   "metadata": {
    "ExecuteTime": {
     "end_time": "2019-09-09T01:40:29.292220Z",
     "start_time": "2019-09-09T01:40:29.288359Z"
    },
    "colab": {},
    "colab_type": "code",
    "id": "GF-7Xw9AhXsq"
   },
   "outputs": [],
   "source": [
    "# to remove earthquakes smaller than magnitude 2\n",
    "eqGoodData=eqGoodData[eqGoodData['magnitude']>=2]"
   ]
  },
  {
   "cell_type": "code",
   "execution_count": 29,
   "metadata": {
    "ExecuteTime": {
     "end_time": "2019-09-09T01:40:29.296885Z",
     "start_time": "2019-09-09T01:40:29.293316Z"
    },
    "colab": {
     "base_uri": "https://localhost:8080/",
     "height": 34
    },
    "colab_type": "code",
    "id": "nTmssr_xhXst",
    "outputId": "b451d466-f438-4535-fa7c-a69de0b23ec4"
   },
   "outputs": [
    {
     "data": {
      "text/plain": [
       "(18852, 4)"
      ]
     },
     "execution_count": 29,
     "metadata": {
      "tags": []
     },
     "output_type": "execute_result"
    }
   ],
   "source": [
    "eqGoodData.shape #look like for my data it was not needed! that is because I chose M>2 when when I downloaded the data"
   ]
  },
  {
   "cell_type": "markdown",
   "metadata": {
    "colab_type": "text",
    "id": "Ah6LgDvVhXsu"
   },
   "source": [
    "You can get the time between consecutive earthquakes with the method ```diff()``` of numpy arrays (in a pandas series you can get the data as a numpy array with the attribute .values: ```seried.values```). \n"
   ]
  },
  {
   "cell_type": "code",
   "execution_count": 0,
   "metadata": {
    "ExecuteTime": {
     "end_time": "2019-09-09T01:40:29.303435Z",
     "start_time": "2019-09-09T01:40:29.298440Z"
    },
    "colab": {},
    "colab_type": "code",
    "id": "RCJozUPPhXsu"
   },
   "outputs": [],
   "source": [
    "## This part of the code is to find the gaps. In the mathod we applied we got N-1 gaps for N values. so we append\n",
    "## an extra value by hand to be consistant with the results already given in the notebook but afterwords we\n",
    "## deleted that entry.\n",
    "\n",
    "## we have written a function to get Good data with gaps at the end but leaving this piece of code\n",
    "## here for completeness.\n",
    "\n",
    "#to get the time intervals\n",
    "gaps=np.diff(eqGoodData['datetime'].values).astype(float)\n",
    "eqGoodData['gaps']=np.insert(gaps,0,0.0)"
   ]
  },
  {
   "cell_type": "code",
   "execution_count": 39,
   "metadata": {
    "colab": {
     "base_uri": "https://localhost:8080/",
     "height": 34
    },
    "colab_type": "code",
    "id": "a6f-j9ThoMUC",
    "outputId": "7f378b72-5ff8-4335-b9b4-b38d7d1628c6"
   },
   "outputs": [
    {
     "data": {
      "text/plain": [
       "(18851, 5)"
      ]
     },
     "execution_count": 39,
     "metadata": {
      "tags": []
     },
     "output_type": "execute_result"
    }
   ],
   "source": [
    "eqGoodData.shape"
   ]
  },
  {
   "cell_type": "code",
   "execution_count": 40,
   "metadata": {
    "colab": {
     "base_uri": "https://localhost:8080/",
     "height": 204
    },
    "colab_type": "code",
    "id": "nDAWM1yyTDZV",
    "outputId": "ea4203c6-50ce-4107-cda3-b50cd24c449d"
   },
   "outputs": [
    {
     "data": {
      "text/html": [
       "<div>\n",
       "<style scoped>\n",
       "    .dataframe tbody tr th:only-of-type {\n",
       "        vertical-align: middle;\n",
       "    }\n",
       "\n",
       "    .dataframe tbody tr th {\n",
       "        vertical-align: top;\n",
       "    }\n",
       "\n",
       "    .dataframe thead th {\n",
       "        text-align: right;\n",
       "    }\n",
       "</style>\n",
       "<table border=\"1\" class=\"dataframe\">\n",
       "  <thead>\n",
       "    <tr style=\"text-align: right;\">\n",
       "      <th></th>\n",
       "      <th>date</th>\n",
       "      <th>time</th>\n",
       "      <th>magnitude</th>\n",
       "      <th>datetime</th>\n",
       "      <th>gaps</th>\n",
       "    </tr>\n",
       "  </thead>\n",
       "  <tbody>\n",
       "    <tr>\n",
       "      <th>1</th>\n",
       "      <td>1984/01/01</td>\n",
       "      <td>05:31:34.16</td>\n",
       "      <td>2.12</td>\n",
       "      <td>1984-01-01 05:31:34.160</td>\n",
       "      <td>0.000000e+00</td>\n",
       "    </tr>\n",
       "    <tr>\n",
       "      <th>2</th>\n",
       "      <td>1984/01/01</td>\n",
       "      <td>06:59:05.14</td>\n",
       "      <td>2.43</td>\n",
       "      <td>1984-01-01 06:59:05.140</td>\n",
       "      <td>5.250980e+12</td>\n",
       "    </tr>\n",
       "    <tr>\n",
       "      <th>3</th>\n",
       "      <td>1984/01/01</td>\n",
       "      <td>11:10:25.29</td>\n",
       "      <td>2.07</td>\n",
       "      <td>1984-01-01 11:10:25.290</td>\n",
       "      <td>1.508015e+13</td>\n",
       "    </tr>\n",
       "    <tr>\n",
       "      <th>4</th>\n",
       "      <td>1984/01/01</td>\n",
       "      <td>19:38:19.79</td>\n",
       "      <td>2.13</td>\n",
       "      <td>1984-01-01 19:38:19.790</td>\n",
       "      <td>3.047450e+13</td>\n",
       "    </tr>\n",
       "    <tr>\n",
       "      <th>5</th>\n",
       "      <td>1984/01/01</td>\n",
       "      <td>19:39:19.67</td>\n",
       "      <td>2.13</td>\n",
       "      <td>1984-01-01 19:39:19.670</td>\n",
       "      <td>5.988000e+10</td>\n",
       "    </tr>\n",
       "  </tbody>\n",
       "</table>\n",
       "</div>"
      ],
      "text/plain": [
       "         date         time  magnitude                datetime          gaps\n",
       "1  1984/01/01  05:31:34.16       2.12 1984-01-01 05:31:34.160  0.000000e+00\n",
       "2  1984/01/01  06:59:05.14       2.43 1984-01-01 06:59:05.140  5.250980e+12\n",
       "3  1984/01/01  11:10:25.29       2.07 1984-01-01 11:10:25.290  1.508015e+13\n",
       "4  1984/01/01  19:38:19.79       2.13 1984-01-01 19:38:19.790  3.047450e+13\n",
       "5  1984/01/01  19:39:19.67       2.13 1984-01-01 19:39:19.670  5.988000e+10"
      ]
     },
     "execution_count": 40,
     "metadata": {
      "tags": []
     },
     "output_type": "execute_result"
    }
   ],
   "source": [
    "eqGoodData.head()"
   ]
  },
  {
   "cell_type": "code",
   "execution_count": 41,
   "metadata": {
    "colab": {
     "base_uri": "https://localhost:8080/",
     "height": 297
    },
    "colab_type": "code",
    "id": "32WOd2TTTDZY",
    "outputId": "5b29d0a3-f1f2-45a9-eb06-81f9865515a7"
   },
   "outputs": [
    {
     "data": {
      "text/html": [
       "<div>\n",
       "<style scoped>\n",
       "    .dataframe tbody tr th:only-of-type {\n",
       "        vertical-align: middle;\n",
       "    }\n",
       "\n",
       "    .dataframe tbody tr th {\n",
       "        vertical-align: top;\n",
       "    }\n",
       "\n",
       "    .dataframe thead th {\n",
       "        text-align: right;\n",
       "    }\n",
       "</style>\n",
       "<table border=\"1\" class=\"dataframe\">\n",
       "  <thead>\n",
       "    <tr style=\"text-align: right;\">\n",
       "      <th></th>\n",
       "      <th>magnitude</th>\n",
       "      <th>gaps</th>\n",
       "    </tr>\n",
       "  </thead>\n",
       "  <tbody>\n",
       "    <tr>\n",
       "      <th>count</th>\n",
       "      <td>18851.000000</td>\n",
       "      <td>1.885100e+04</td>\n",
       "    </tr>\n",
       "    <tr>\n",
       "      <th>mean</th>\n",
       "      <td>2.399508</td>\n",
       "      <td>3.180247e+13</td>\n",
       "    </tr>\n",
       "    <tr>\n",
       "      <th>std</th>\n",
       "      <td>0.392437</td>\n",
       "      <td>1.103955e+15</td>\n",
       "    </tr>\n",
       "    <tr>\n",
       "      <th>min</th>\n",
       "      <td>2.000000</td>\n",
       "      <td>0.000000e+00</td>\n",
       "    </tr>\n",
       "    <tr>\n",
       "      <th>25%</th>\n",
       "      <td>2.110000</td>\n",
       "      <td>2.736565e+12</td>\n",
       "    </tr>\n",
       "    <tr>\n",
       "      <th>50%</th>\n",
       "      <td>2.290000</td>\n",
       "      <td>8.946280e+12</td>\n",
       "    </tr>\n",
       "    <tr>\n",
       "      <th>75%</th>\n",
       "      <td>2.570000</td>\n",
       "      <td>2.133972e+13</td>\n",
       "    </tr>\n",
       "    <tr>\n",
       "      <th>max</th>\n",
       "      <td>5.800000</td>\n",
       "      <td>1.199632e+17</td>\n",
       "    </tr>\n",
       "  </tbody>\n",
       "</table>\n",
       "</div>"
      ],
      "text/plain": [
       "          magnitude          gaps\n",
       "count  18851.000000  1.885100e+04\n",
       "mean       2.399508  3.180247e+13\n",
       "std        0.392437  1.103955e+15\n",
       "min        2.000000  0.000000e+00\n",
       "25%        2.110000  2.736565e+12\n",
       "50%        2.290000  8.946280e+12\n",
       "75%        2.570000  2.133972e+13\n",
       "max        5.800000  1.199632e+17"
      ]
     },
     "execution_count": 41,
     "metadata": {
      "tags": []
     },
     "output_type": "execute_result"
    }
   ],
   "source": [
    "eqGoodData.describe()"
   ]
  },
  {
   "cell_type": "code",
   "execution_count": 42,
   "metadata": {
    "colab": {
     "base_uri": "https://localhost:8080/",
     "height": 204
    },
    "colab_type": "code",
    "id": "BavypriTXcUV",
    "outputId": "7808ef4b-cc6f-402a-d68e-444ab65296f8"
   },
   "outputs": [
    {
     "data": {
      "text/html": [
       "<div>\n",
       "<style scoped>\n",
       "    .dataframe tbody tr th:only-of-type {\n",
       "        vertical-align: middle;\n",
       "    }\n",
       "\n",
       "    .dataframe tbody tr th {\n",
       "        vertical-align: top;\n",
       "    }\n",
       "\n",
       "    .dataframe thead th {\n",
       "        text-align: right;\n",
       "    }\n",
       "</style>\n",
       "<table border=\"1\" class=\"dataframe\">\n",
       "  <thead>\n",
       "    <tr style=\"text-align: right;\">\n",
       "      <th></th>\n",
       "      <th>date</th>\n",
       "      <th>time</th>\n",
       "      <th>magnitude</th>\n",
       "      <th>datetime</th>\n",
       "      <th>gaps</th>\n",
       "    </tr>\n",
       "  </thead>\n",
       "  <tbody>\n",
       "    <tr>\n",
       "      <th>1</th>\n",
       "      <td>1984/01/01</td>\n",
       "      <td>05:31:34.16</td>\n",
       "      <td>2.12</td>\n",
       "      <td>1984-01-01 05:31:34.160</td>\n",
       "      <td>0.000000e+00</td>\n",
       "    </tr>\n",
       "    <tr>\n",
       "      <th>2</th>\n",
       "      <td>1984/01/01</td>\n",
       "      <td>06:59:05.14</td>\n",
       "      <td>2.43</td>\n",
       "      <td>1984-01-01 06:59:05.140</td>\n",
       "      <td>5.250980e+12</td>\n",
       "    </tr>\n",
       "    <tr>\n",
       "      <th>3</th>\n",
       "      <td>1984/01/01</td>\n",
       "      <td>11:10:25.29</td>\n",
       "      <td>2.07</td>\n",
       "      <td>1984-01-01 11:10:25.290</td>\n",
       "      <td>1.508015e+13</td>\n",
       "    </tr>\n",
       "    <tr>\n",
       "      <th>4</th>\n",
       "      <td>1984/01/01</td>\n",
       "      <td>19:38:19.79</td>\n",
       "      <td>2.13</td>\n",
       "      <td>1984-01-01 19:38:19.790</td>\n",
       "      <td>3.047450e+13</td>\n",
       "    </tr>\n",
       "    <tr>\n",
       "      <th>5</th>\n",
       "      <td>1984/01/01</td>\n",
       "      <td>19:39:19.67</td>\n",
       "      <td>2.13</td>\n",
       "      <td>1984-01-01 19:39:19.670</td>\n",
       "      <td>5.988000e+10</td>\n",
       "    </tr>\n",
       "  </tbody>\n",
       "</table>\n",
       "</div>"
      ],
      "text/plain": [
       "         date         time  magnitude                datetime          gaps\n",
       "1  1984/01/01  05:31:34.16       2.12 1984-01-01 05:31:34.160  0.000000e+00\n",
       "2  1984/01/01  06:59:05.14       2.43 1984-01-01 06:59:05.140  5.250980e+12\n",
       "3  1984/01/01  11:10:25.29       2.07 1984-01-01 11:10:25.290  1.508015e+13\n",
       "4  1984/01/01  19:38:19.79       2.13 1984-01-01 19:38:19.790  3.047450e+13\n",
       "5  1984/01/01  19:39:19.67       2.13 1984-01-01 19:39:19.670  5.988000e+10"
      ]
     },
     "execution_count": 42,
     "metadata": {
      "tags": []
     },
     "output_type": "execute_result"
    }
   ],
   "source": [
    "eqGoodData.head()"
   ]
  },
  {
   "cell_type": "code",
   "execution_count": 43,
   "metadata": {
    "colab": {
     "base_uri": "https://localhost:8080/",
     "height": 297
    },
    "colab_type": "code",
    "id": "pC2aJCuVXfM3",
    "outputId": "1be21cc0-d35e-482a-a7c4-e17b1bdfbaae"
   },
   "outputs": [
    {
     "data": {
      "text/html": [
       "<div>\n",
       "<style scoped>\n",
       "    .dataframe tbody tr th:only-of-type {\n",
       "        vertical-align: middle;\n",
       "    }\n",
       "\n",
       "    .dataframe tbody tr th {\n",
       "        vertical-align: top;\n",
       "    }\n",
       "\n",
       "    .dataframe thead th {\n",
       "        text-align: right;\n",
       "    }\n",
       "</style>\n",
       "<table border=\"1\" class=\"dataframe\">\n",
       "  <thead>\n",
       "    <tr style=\"text-align: right;\">\n",
       "      <th></th>\n",
       "      <th>magnitude</th>\n",
       "      <th>gaps</th>\n",
       "    </tr>\n",
       "  </thead>\n",
       "  <tbody>\n",
       "    <tr>\n",
       "      <th>count</th>\n",
       "      <td>18851.000000</td>\n",
       "      <td>1.885100e+04</td>\n",
       "    </tr>\n",
       "    <tr>\n",
       "      <th>mean</th>\n",
       "      <td>2.399508</td>\n",
       "      <td>3.180247e+13</td>\n",
       "    </tr>\n",
       "    <tr>\n",
       "      <th>std</th>\n",
       "      <td>0.392437</td>\n",
       "      <td>1.103955e+15</td>\n",
       "    </tr>\n",
       "    <tr>\n",
       "      <th>min</th>\n",
       "      <td>2.000000</td>\n",
       "      <td>0.000000e+00</td>\n",
       "    </tr>\n",
       "    <tr>\n",
       "      <th>25%</th>\n",
       "      <td>2.110000</td>\n",
       "      <td>2.736565e+12</td>\n",
       "    </tr>\n",
       "    <tr>\n",
       "      <th>50%</th>\n",
       "      <td>2.290000</td>\n",
       "      <td>8.946280e+12</td>\n",
       "    </tr>\n",
       "    <tr>\n",
       "      <th>75%</th>\n",
       "      <td>2.570000</td>\n",
       "      <td>2.133972e+13</td>\n",
       "    </tr>\n",
       "    <tr>\n",
       "      <th>max</th>\n",
       "      <td>5.800000</td>\n",
       "      <td>1.199632e+17</td>\n",
       "    </tr>\n",
       "  </tbody>\n",
       "</table>\n",
       "</div>"
      ],
      "text/plain": [
       "          magnitude          gaps\n",
       "count  18851.000000  1.885100e+04\n",
       "mean       2.399508  3.180247e+13\n",
       "std        0.392437  1.103955e+15\n",
       "min        2.000000  0.000000e+00\n",
       "25%        2.110000  2.736565e+12\n",
       "50%        2.290000  8.946280e+12\n",
       "75%        2.570000  2.133972e+13\n",
       "max        5.800000  1.199632e+17"
      ]
     },
     "execution_count": 43,
     "metadata": {
      "tags": []
     },
     "output_type": "execute_result"
    }
   ],
   "source": [
    "eqGoodData.describe()"
   ]
  },
  {
   "cell_type": "markdown",
   "metadata": {
    "colab_type": "text",
    "id": "wWmOXVyKhO9W"
   },
   "source": [
    "Note that the first entry will be NaT which is Not a Time (corresponding to nan for numerical variables) or maybe a negative number (depends on your exact operations above). You should remove it"
   ]
  },
  {
   "cell_type": "code",
   "execution_count": 0,
   "metadata": {
    "colab": {},
    "colab_type": "code",
    "id": "zqOLrvyc0_dL"
   },
   "outputs": [],
   "source": [
    "# removing the first row of data\n",
    "eqGoodData=eqGoodData.iloc[1:]"
   ]
  },
  {
   "cell_type": "code",
   "execution_count": 46,
   "metadata": {
    "colab": {
     "base_uri": "https://localhost:8080/",
     "height": 204
    },
    "colab_type": "code",
    "id": "kDvKNHD7X1M8",
    "outputId": "1d19cd70-fe1e-4f7e-9963-8a207ac739f8"
   },
   "outputs": [
    {
     "data": {
      "text/html": [
       "<div>\n",
       "<style scoped>\n",
       "    .dataframe tbody tr th:only-of-type {\n",
       "        vertical-align: middle;\n",
       "    }\n",
       "\n",
       "    .dataframe tbody tr th {\n",
       "        vertical-align: top;\n",
       "    }\n",
       "\n",
       "    .dataframe thead th {\n",
       "        text-align: right;\n",
       "    }\n",
       "</style>\n",
       "<table border=\"1\" class=\"dataframe\">\n",
       "  <thead>\n",
       "    <tr style=\"text-align: right;\">\n",
       "      <th></th>\n",
       "      <th>date</th>\n",
       "      <th>time</th>\n",
       "      <th>magnitude</th>\n",
       "      <th>datetime</th>\n",
       "      <th>gaps</th>\n",
       "    </tr>\n",
       "  </thead>\n",
       "  <tbody>\n",
       "    <tr>\n",
       "      <th>2</th>\n",
       "      <td>1984/01/01</td>\n",
       "      <td>06:59:05.14</td>\n",
       "      <td>2.43</td>\n",
       "      <td>1984-01-01 06:59:05.140</td>\n",
       "      <td>5.250980e+12</td>\n",
       "    </tr>\n",
       "    <tr>\n",
       "      <th>3</th>\n",
       "      <td>1984/01/01</td>\n",
       "      <td>11:10:25.29</td>\n",
       "      <td>2.07</td>\n",
       "      <td>1984-01-01 11:10:25.290</td>\n",
       "      <td>1.508015e+13</td>\n",
       "    </tr>\n",
       "    <tr>\n",
       "      <th>4</th>\n",
       "      <td>1984/01/01</td>\n",
       "      <td>19:38:19.79</td>\n",
       "      <td>2.13</td>\n",
       "      <td>1984-01-01 19:38:19.790</td>\n",
       "      <td>3.047450e+13</td>\n",
       "    </tr>\n",
       "    <tr>\n",
       "      <th>5</th>\n",
       "      <td>1984/01/01</td>\n",
       "      <td>19:39:19.67</td>\n",
       "      <td>2.13</td>\n",
       "      <td>1984-01-01 19:39:19.670</td>\n",
       "      <td>5.988000e+10</td>\n",
       "    </tr>\n",
       "    <tr>\n",
       "      <th>6</th>\n",
       "      <td>1984/01/01</td>\n",
       "      <td>20:19:47.21</td>\n",
       "      <td>2.02</td>\n",
       "      <td>1984-01-01 20:19:47.210</td>\n",
       "      <td>2.427540e+12</td>\n",
       "    </tr>\n",
       "  </tbody>\n",
       "</table>\n",
       "</div>"
      ],
      "text/plain": [
       "         date         time  magnitude                datetime          gaps\n",
       "2  1984/01/01  06:59:05.14       2.43 1984-01-01 06:59:05.140  5.250980e+12\n",
       "3  1984/01/01  11:10:25.29       2.07 1984-01-01 11:10:25.290  1.508015e+13\n",
       "4  1984/01/01  19:38:19.79       2.13 1984-01-01 19:38:19.790  3.047450e+13\n",
       "5  1984/01/01  19:39:19.67       2.13 1984-01-01 19:39:19.670  5.988000e+10\n",
       "6  1984/01/01  20:19:47.21       2.02 1984-01-01 20:19:47.210  2.427540e+12"
      ]
     },
     "execution_count": 46,
     "metadata": {
      "tags": []
     },
     "output_type": "execute_result"
    }
   ],
   "source": [
    "eqGoodData.head()"
   ]
  },
  {
   "cell_type": "markdown",
   "metadata": {
    "colab_type": "text",
    "id": "M2VH6Q4xhXsw"
   },
   "source": [
    "# data exploration\n",
    "At this point you should wonder if this is the final dataset that you want to use and if anything is weird or suspicious about it. Visualize the distribution. A good way to visualize distributions is a histogram which you can prodice with pl.hist() or as a method of your dataframe series as ```df[SeriesName].plot(kind=\"hist\")```. Produce a plot like the one below (label the axis! and describe it with a caption!). To get the logarithmic y axis you can se ```logy=True```, for example. in your ```df[SeriesName].plot``` call."
   ]
  },
  {
   "cell_type": "code",
   "execution_count": 47,
   "metadata": {
    "colab": {
     "base_uri": "https://localhost:8080/",
     "height": 340
    },
    "colab_type": "code",
    "id": "iDiscxU4XDwg",
    "outputId": "f00e876b-a0bc-49e8-9f31-4a77aa04d2da"
   },
   "outputs": [
    {
     "data": {
      "text/plain": [
       "Text(0.5,0,'time gaps(ns)')"
      ]
     },
     "execution_count": 47,
     "metadata": {
      "tags": []
     },
     "output_type": "execute_result"
    },
    {
     "name": "stderr",
     "output_type": "stream",
     "text": [
      "/usr/local/lib/python2.7/dist-packages/matplotlib/font_manager.py:1331: UserWarning: findfont: Font family [u'[\"sans-serif\"]'] not found. Falling back to DejaVu Sans\n",
      "  (prop.get_family(), self.defaultFamily[fontext]))\n"
     ]
    },
    {
     "data": {
      "image/png": "[encoded data removed]",
      "text/plain": [
       "<Figure size 432x288 with 1 Axes>"
      ]
     },
     "metadata": {
      "tags": []
     },
     "output_type": "display_data"
    }
   ],
   "source": [
    "ax=eqGoodData['gaps'].plot(kind=\"hist\",logy=\"True\")\n",
    "ax.set_ylabel('frequency')\n",
    "ax.set_xlabel('time gaps(ns)')"
   ]
  },
  {
   "cell_type": "markdown",
   "metadata": {
    "colab_type": "text",
    "id": "nuPhJkrozh91"
   },
   "source": [
    "The thing that worries me is that by removing some sections of the data to use only stationary periods we created some artificially large gaps: gaps of order ~month. How many nanoseconds in a month? remove all gaps that are larger than about a month and see how the distribution looks (make another histogram)."
   ]
  },
  {
   "cell_type": "code",
   "execution_count": 48,
   "metadata": {
    "colab": {
     "base_uri": "https://localhost:8080/",
     "height": 34
    },
    "colab_type": "code",
    "id": "0zuGOkWhzhDu",
    "outputId": "ed839e1c-8f52-4216-eb13-441b848b2672"
   },
   "outputs": [
    {
     "data": {
      "text/plain": [
       "(18840, 5)"
      ]
     },
     "execution_count": 48,
     "metadata": {
      "tags": []
     },
     "output_type": "execute_result"
    }
   ],
   "source": [
    "# removal of gaps greater than month \n",
    "month_in_ns=30*24*60*60*10**9\n",
    "eqGoodData=eqGoodData[eqGoodData['gaps']<=month_in_ns]\n",
    "eqGoodData.shape"
   ]
  },
  {
   "cell_type": "code",
   "execution_count": 49,
   "metadata": {
    "colab": {
     "base_uri": "https://localhost:8080/",
     "height": 303
    },
    "colab_type": "code",
    "id": "NvGzvzl7bAj5",
    "outputId": "c1278567-1e03-44e4-cd72-71e61a2e449c"
   },
   "outputs": [
    {
     "data": {
      "text/plain": [
       "Text(0.5,0,'time gaps(ns)')"
      ]
     },
     "execution_count": 49,
     "metadata": {
      "tags": []
     },
     "output_type": "execute_result"
    },
    {
     "data": {
      "image/png": "[encoded data removed]",
      "text/plain": [
       "<Figure size 432x288 with 1 Axes>"
      ]
     },
     "metadata": {
      "tags": []
     },
     "output_type": "display_data"
    }
   ],
   "source": [
    "ax=eqGoodData['gaps'].plot(kind=\"hist\",logy=\"True\")\n",
    "ax.set_ylabel('frequency')\n",
    "ax.set_xlabel('time gaps(ns)')"
   ]
  },
  {
   "cell_type": "markdown",
   "metadata": {
    "colab_type": "text",
    "id": "gn-HuVevYOo7"
   },
   "source": [
    "# data analysis"
   ]
  },
  {
   "cell_type": "markdown",
   "metadata": {
    "colab_type": "text",
    "id": "Q2xYwKRB2sx9"
   },
   "source": [
    "### important: the paper does not do it but I want you to formally choose a threshold before you do this test. Choose a p-value (=$\\alpha$ thresold: call your variable ```alpha```) of 3-$\\sigma$."
   ]
  },
  {
   "cell_type": "code",
   "execution_count": 0,
   "metadata": {
    "colab": {},
    "colab_type": "code",
    "id": "ZQAAl9fVTDZ7"
   },
   "outputs": [],
   "source": [
    "## setting the threshold value \n",
    "alpha =0.03"
   ]
  },
  {
   "cell_type": "markdown",
   "metadata": {
    "colab_type": "text",
    "id": "pt5MAQEZhXsz"
   },
   "source": [
    "Follow the instructions (algorithm) in **Section 3 paragraph 3** and compare your results with the results in table 1 with a threshold  of = 0.01 and 0.001\n",
    "\n",
    "Do it for all 5 magnitude thresholds as indicated in the paper (and in Table 1).\n",
    "\n",
    "Note that the x axis in plot Fig 1 is in _log space_. Use ```np.log10()``` to take the logarithm of the time gaps.\n",
    "\n",
    "The pseudocode for the algorithm is [here](https://github.com/fedhere/DSPS/blob/master/HW3/Corral2018_pseudocode.md).\n"
   ]
  },
  {
   "cell_type": "markdown",
   "metadata": {
    "colab_type": "text",
    "id": "gXWK4x4FhXs1"
   },
   "source": [
    "Reproduce the paper Fig 1 and Table 1. In the Table report the size of each dataset after cleaning the value of the statistic and the p-value, as done in Corral 2018. Use the scipy function for the 2 sample KS test. (resources [here](https://colab.research.google.com/notebooks/markdown_guide.ipynb#scrollTo=70pYkR9LiOV0) to learn about the table syntax in markdown)"
   ]
  },
  {
   "cell_type": "markdown",
   "metadata": {
    "colab_type": "text",
    "id": "W3zai_IgTDZ-"
   },
   "source": [
    "--We will make lists of stationary periods with the start dates in one list and end date in the other list in order to use it for analysis."
   ]
  },
  {
   "cell_type": "code",
   "execution_count": 0,
   "metadata": {
    "colab": {},
    "colab_type": "code",
    "id": "qeKN3a-jTDZ_"
   },
   "outputs": [],
   "source": [
    "## stationary period start date\n",
    "st_start = ['1984-01-01','1990-04-20','1994-08-08','1996-02-06','1997-01-01','1997-10-01', '1998-04-02', '2000-07-19','2000-11-24', '2001-08-08', '2002-07-02']\n",
    "## stationary period end date\n",
    "st_end = ['1986-07-02', '1992-02-06', '1995-08-08', '1996-07-01','1997-08-08', '1998-02-24', '1999-05-08', '2000-10-19','2001-04-02', '2002-01-1', '2002-12-31']"
   ]
  },
  {
   "cell_type": "markdown",
   "metadata": {
    "colab_type": "text",
    "id": "8XRO_h34TDaC"
   },
   "source": [
    "-"
   ]
  },
  {
   "cell_type": "markdown",
   "metadata": {
    "colab_type": "text",
    "id": "guKaYsfiTDaD"
   },
   "source": [
    "We will define all the functions here to get the good data and perform KS test and finally plotting the histogram.\n",
    "To do the KS test we will use the python build in function \n",
    "\n",
    "\"stats.ks_2samp(Sample_1, Sample_2)\"\n",
    "\n",
    "this will return the p values and distance between the two sample in the commulative space"
   ]
  },
  {
   "cell_type": "code",
   "execution_count": 0,
   "metadata": {
    "colab": {},
    "colab_type": "code",
    "id": "9uweVBlETDaD"
   },
   "outputs": [],
   "source": [
    "def get_eqGoodData(Magnitude):\n",
    "    '''\n",
    "    This function will take the sample data points within the stationary periods \n",
    "    and return the Dataframe with date time and gaps points with magnitude greater than identified.\n",
    "    '''\n",
    "\n",
    "    df = eqdata[eqdata.magnitude >= Magnitude]\n",
    "    \n",
    "    df = df.set_index(df['datetime']) ## index of datetime column\n",
    "    \n",
    "    good_data = [] ## empty list \n",
    "    for i_,stb in enumerate(st_start):\n",
    "        # events for the stationary periods\n",
    "        df_st = df.loc[st_start[i_]:st_end[i_]]\n",
    "        gaps = np.diff(df_st['datetime'].astype(int)) \n",
    "\n",
    "        df_st_withgaps = df_st.drop(df_st.index[0])\n",
    "        df_st_withgaps['gaps'] = gaps\n",
    "        good_data.append(df_st_withgaps)\n",
    "\n",
    "    # appending the stacked data into a dataframe\n",
    "    eqGoodData = pd.concat(good_data)\n",
    "    return eqGoodData\n",
    "\n",
    "def get_sample(m, M):\n",
    "    '''\n",
    "    This function will take m and M values and return the scaled sample which we need\n",
    "    in order to perform the KS test.\n",
    "    '''\n",
    "    sample_scaled = []\n",
    "    for Mk in M:\n",
    "        eqGoodData = get_eqGoodData(Mk)\n",
    "        temp = eqGoodData\n",
    "#         for i in range(2):\n",
    "        t_mean = np.mean(temp.gaps)\n",
    "        temp = temp[temp['gaps'] >= m*t_mean]  ## removing the small gaps\n",
    "            \n",
    "            \n",
    "        temp_new_mean = np.mean(temp.gaps)\n",
    "        gaps_scaled = temp['gaps'].values / temp_new_mean  # scaling the gaps by the new mean\n",
    "        sample_scaled.append(gaps_scaled)\n",
    "    \n",
    "    return sample_scaled\n",
    "\n",
    "def Perform_KS_test(m, M):\n",
    "    '''\n",
    "    Calculates the KS test, It will use get_sample function.\n",
    "    It will take m and Magnitude as input and return the scaled sample, pvalues and the distance between samples\n",
    "    in commulative space\n",
    "    '''\n",
    "    scaled_sample = get_sample(m, M)\n",
    "    ## make empty arrays \n",
    "    p_value = np.zeros((len(M), len(M)))\n",
    "    d_value = np.zeros((len(M), len(M)))\n",
    "    for i in range(len(M)):\n",
    "        for j in range(i,len(M)):\n",
    "            ## python build in function to perform KS test, it will return the p values \n",
    "            ## and the distance between two distribution in the commulative space\n",
    "            d_val, p_val = stats.ks_2samp(scaled_sample[i], scaled_sample[j])\n",
    "            p_value[i, j] =  p_val\n",
    "            p_value[j, i] =  p_val\n",
    "            d_value[i, j] =  d_val\n",
    "            d_value[j, i] =  d_val\n",
    "    return scaled_sample, d_value, p_value\n",
    "\n",
    "def plot_hist(data_sample):\n",
    "    '''\n",
    "    plot the histogram of given sample.\n",
    "    This function will not return anything and will just plot the data.\n",
    "    you will have to change the legends and labels inside the function if you want to change them.\n",
    "    '''\n",
    "    \n",
    "    pl.figure(figsize=(7, 5)) ## making fig\n",
    "    \n",
    "    for i in range(len(data_sample)):\n",
    "#         data_sample =  np.log10(data_sample[i])\n",
    "        hist = pl.hist(np.log10(data_sample[i]), bins=100, cumulative=True, histtype='step', density=True, label=('M$\\geq$%0.1f'%M[i])) \n",
    "    \n",
    "    pl.legend(loc='upper left')\n",
    "    pl.xlabel('x = $Log_{10}(R_s\\\\tau$)')\n",
    "    pl.ylabel('$P(x)$')"
   ]
  },
  {
   "cell_type": "markdown",
   "metadata": {
    "colab_type": "text",
    "id": "bamEZDXgTDaH"
   },
   "source": [
    "# For m = 0.01"
   ]
  },
  {
   "cell_type": "code",
   "execution_count": 53,
   "metadata": {
    "colab": {
     "base_uri": "https://localhost:8080/",
     "height": 344
    },
    "colab_type": "code",
    "id": "fQXmuyK8TDaI",
    "outputId": "eb28ada4-755f-4a73-ceca-498b6daeef28"
   },
   "outputs": [
    {
     "data": {
      "image/png": "[encoded data removed]",
      "text/plain": [
       "<Figure size 504x360 with 1 Axes>"
      ]
     },
     "metadata": {
      "tags": []
     },
     "output_type": "display_data"
    }
   ],
   "source": [
    "## given value of m\n",
    "m = 0.01\n",
    "## given values of Magnitude \n",
    "M = [2.0, 2.5, 3.0, 3.5, 4.0]\n",
    "# Performing KS test for given m and M values\n",
    "data_sample, dvalue, pval_m_001 = Perform_KS_test(m, M)\n",
    "\n",
    "plot_hist(data_sample)"
   ]
  },
  {
   "cell_type": "markdown",
   "metadata": {
    "colab_type": "text",
    "id": "mjhE-tp7TDaP"
   },
   "source": [
    "Note : The lines droping to zero at the end is due to the fact that we are plotting a histogram of histtype 'step', which is the easiest way we found to plot the commulative distribution plot. Also the graph saturates at 1 because of the rescaling."
   ]
  },
  {
   "cell_type": "markdown",
   "metadata": {
    "colab_type": "text",
    "id": "M4Ur2rnHTDaQ"
   },
   "source": [
    "\n",
    "#### There is very small statistical significant differences between the distributions as can be seen from the commulative plot above. The p-values are bit different from the one in the paper but the distribution looks quite similar. The reason for the difference in the p values can be due to the fact that we have used different data and the raw data was not available for the paper."
   ]
  },
  {
   "cell_type": "markdown",
   "metadata": {
    "colab_type": "text",
    "id": "mqYtyGkyTDaQ"
   },
   "source": [
    "# For Table:"
   ]
  },
  {
   "cell_type": "code",
   "execution_count": 54,
   "metadata": {
    "colab": {
     "base_uri": "https://localhost:8080/",
     "height": 102
    },
    "colab_type": "code",
    "id": "sNdFFWbSTDaR",
    "outputId": "6cd7c445-d40b-454f-99f3-59c4bd7cfadf"
   },
   "outputs": [
    {
     "name": "stdout",
     "output_type": "stream",
     "text": [
      "18028\n",
      "5392\n",
      "1333\n",
      "375\n",
      "97\n"
     ]
    }
   ],
   "source": [
    "for i in data_sample:\n",
    "    print (len(i))"
   ]
  },
  {
   "cell_type": "code",
   "execution_count": 55,
   "metadata": {
    "colab": {
     "base_uri": "https://localhost:8080/",
     "height": 102
    },
    "colab_type": "code",
    "id": "UxmBgcktTDaT",
    "outputId": "fc5797af-1f10-4746-e367-2d2a48d6cb72"
   },
   "outputs": [
    {
     "data": {
      "text/plain": [
       "array([[0.        , 0.02095516, 0.02218201, 0.03258043, 0.08769177],\n",
       "       [0.02095516, 0.        , 0.03134259, 0.04167755, 0.10311955],\n",
       "       [0.02218201, 0.03134259, 0.        , 0.0424106 , 0.079342  ],\n",
       "       [0.03258043, 0.04167755, 0.0424106 , 0.        , 0.08186942],\n",
       "       [0.08769177, 0.10311955, 0.079342  , 0.08186942, 0.        ]])"
      ]
     },
     "execution_count": 55,
     "metadata": {
      "tags": []
     },
     "output_type": "execute_result"
    }
   ],
   "source": [
    "dvalue"
   ]
  },
  {
   "cell_type": "code",
   "execution_count": 56,
   "metadata": {
    "colab": {
     "base_uri": "https://localhost:8080/",
     "height": 102
    },
    "colab_type": "code",
    "id": "pf2WpOulTDaY",
    "outputId": "831ac304-5579-4b39-936d-b79fde74bc58"
   },
   "outputs": [
    {
     "data": {
      "text/plain": [
       "array([[1.        , 0.05151584, 0.57000811, 0.82437386, 0.43128026],\n",
       "       [0.05151584, 1.        , 0.24066967, 0.56766168, 0.24904121],\n",
       "       [0.57000811, 0.24066967, 1.        , 0.65936574, 0.60215284],\n",
       "       [0.82437386, 0.56766168, 0.65936574, 1.        , 0.66163228],\n",
       "       [0.43128026, 0.24904121, 0.60215284, 0.66163228, 1.        ]])"
      ]
     },
     "execution_count": 56,
     "metadata": {
      "tags": []
     },
     "output_type": "execute_result"
    }
   ],
   "source": [
    "pval_m_001"
   ]
  },
  {
   "cell_type": "markdown",
   "metadata": {
    "colab_type": "text",
    "id": "Vz0rqMQGTDac"
   },
   "source": [
    "# Table similar to one in the paper:"
   ]
  },
  {
   "cell_type": "markdown",
   "metadata": {
    "colab_type": "text",
    "id": "jtH7w0fnTDad"
   },
   "source": [
    "| m=0.01          |       N  | M $\\geq$ 2.0 | M $\\geq$ 2.5 | M $\\geq$ 3.0 | M $\\geq$ 3.5 | M $\\geq$ 4.0 |\n",
    "| ----------------|-------- | ------------ | ------------ | ------------ | ------------ | ------------ |\n",
    "| M $\\geq$ 2.0    |   18010 | ---          | 61.1%        | 54.9%        | 86.3%        |43.3%         |\n",
    "| M $\\geq$ 2.5    |    5381 | 0.020        | ---          | 23.8%        | 55.8%        | 25.6%        |\n",
    "| M $\\geq$ 3.0    |    1329 | 0.022        | 0.031        | ---          | 65.4%        | 61.7%        |\n",
    "| M $\\geq$ 3.5    |     374 | 0.031        | 0.042        | 0.042        | ---          | 67.8%        |\n",
    "| M $\\geq$ 4.0    |      97 | 0.088        | 0.102        | 0.078        | 0.081        | ---          |"
   ]
  },
  {
   "cell_type": "markdown",
   "metadata": {
    "colab_type": "text",
    "id": "9iwhwdTmTDaf"
   },
   "source": [
    "#### Table . KS statistic. The value below the table are the p values and the values above the table are d values foe m = 0.01."
   ]
  },
  {
   "cell_type": "markdown",
   "metadata": {
    "colab_type": "text",
    "id": "yAoq0TJhTDah"
   },
   "source": [
    "# Redoing it for threshold m = 0.001"
   ]
  },
  {
   "cell_type": "markdown",
   "metadata": {
    "colab_type": "text",
    "id": "4SXLSFYWTDai"
   },
   "source": [
    "Repeating the same procedure as above but for m = 0.001"
   ]
  },
  {
   "cell_type": "code",
   "execution_count": 57,
   "metadata": {
    "colab": {
     "base_uri": "https://localhost:8080/",
     "height": 344
    },
    "colab_type": "code",
    "id": "jlz-DP_zTDaj",
    "outputId": "e508d73d-6194-4e1c-867e-3cfefc6fd2ab"
   },
   "outputs": [
    {
     "data": {
      "image/png": "[encoded data removed]",
      "text/plain": [
       "<Figure size 504x360 with 1 Axes>"
      ]
     },
     "metadata": {
      "tags": []
     },
     "output_type": "display_data"
    }
   ],
   "source": [
    "m = 0.001\n",
    "## given values of Magnitude \n",
    "M = [2.0, 2.5, 3.0, 3.5, 4.0]\n",
    "# Performing KS test for given m and M values\n",
    "data_sample, dvalue, pval_m_0001 = Perform_KS_test(m, M)\n",
    "\n",
    "plot_hist(data_sample)"
   ]
  },
  {
   "cell_type": "markdown",
   "metadata": {
    "colab_type": "text",
    "id": "CgZ4RrMfTDan"
   },
   "source": [
    "#### Figure . Rescaled inter-event-time cumulative distributions for $m$ = 0.001. "
   ]
  },
  {
   "cell_type": "markdown",
   "metadata": {
    "colab_type": "text",
    "id": "TnZXruShTDan"
   },
   "source": [
    "# For making the table"
   ]
  },
  {
   "cell_type": "code",
   "execution_count": 58,
   "metadata": {
    "colab": {
     "base_uri": "https://localhost:8080/",
     "height": 102
    },
    "colab_type": "code",
    "id": "N3oTmty9TDao",
    "outputId": "398098af-5385-4299-b0af-1a5ee18bafb6"
   },
   "outputs": [
    {
     "name": "stdout",
     "output_type": "stream",
     "text": [
      "18773\n",
      "5642\n",
      "1408\n",
      "401\n",
      "106\n"
     ]
    }
   ],
   "source": [
    "## length of the sample data\n",
    "for i in data_sample:\n",
    "    print (len(i))"
   ]
  },
  {
   "cell_type": "code",
   "execution_count": 59,
   "metadata": {
    "colab": {
     "base_uri": "https://localhost:8080/",
     "height": 102
    },
    "colab_type": "code",
    "id": "3xdPBbFHTDav",
    "outputId": "ea8958f9-40a4-4def-b9a8-13efee34fa11"
   },
   "outputs": [
    {
     "data": {
      "text/plain": [
       "array([[0.        , 0.02316098, 0.02717973, 0.05161124, 0.06762573],\n",
       "       [0.02316098, 0.        , 0.02744383, 0.033314  , 0.08264164],\n",
       "       [0.02717973, 0.02744383, 0.        , 0.04039617, 0.06379985],\n",
       "       [0.05161124, 0.033314  , 0.04039617, 0.        , 0.06683762],\n",
       "       [0.06762573, 0.08264164, 0.06379985, 0.06683762, 0.        ]])"
      ]
     },
     "execution_count": 59,
     "metadata": {
      "tags": []
     },
     "output_type": "execute_result"
    }
   ],
   "source": [
    "dvalue"
   ]
  },
  {
   "cell_type": "code",
   "execution_count": 60,
   "metadata": {
    "colab": {
     "base_uri": "https://localhost:8080/",
     "height": 102
    },
    "colab_type": "code",
    "id": "IHZ74_GaTDax",
    "outputId": "19b4fe91-56c1-4480-aec7-f242a4992852"
   },
   "outputs": [
    {
     "data": {
      "text/plain": [
       "array([[1.        , 0.01871629, 0.28419969, 0.24007386, 0.7060156 ],\n",
       "       [0.01871629, 1.        , 0.35965596, 0.79389139, 0.4596036 ],\n",
       "       [0.28419969, 0.35965596, 1.        , 0.67981434, 0.80457758],\n",
       "       [0.24007386, 0.79389139, 0.67981434, 1.        , 0.83558756],\n",
       "       [0.7060156 , 0.4596036 , 0.80457758, 0.83558756, 1.        ]])"
      ]
     },
     "execution_count": 60,
     "metadata": {
      "tags": []
     },
     "output_type": "execute_result"
    }
   ],
   "source": [
    "pval_m_0001"
   ]
  },
  {
   "cell_type": "markdown",
   "metadata": {
    "colab_type": "text",
    "id": "iD_wumFOTDa0"
   },
   "source": [
    "# Table similar to one in the paper:"
   ]
  },
  {
   "cell_type": "markdown",
   "metadata": {
    "colab_type": "text",
    "id": "zQsum2TBTDa0"
   },
   "source": [
    "\n",
    "| m=0.001         |    N    | M $\\geq$ 2.0 | M $\\geq$ 2.5 | M $\\geq$ 3.0 | M $\\geq$ 3.5 | M $\\geq$ 4.0 |\n",
    "| ----------------|-------- | ------------ | ------------ | ------------ | ------------ | ------------ |\n",
    "| M $\\geq$ 2.0    |   18010 | ---          | 2.1%         | 28.3%        | 23.9%        | 70.6%        |\n",
    "| M $\\geq$ 2.5    |    5381 | 0.022        | ---          | 36.5%        | 78.0%        | 46.1%        |\n",
    "| M $\\geq$ 3.0    |    1329 | 0.027        | 0.027        | ---          | 68.0%        | 80.4%        |\n",
    "| M $\\geq$ 3.5    |     374 | 0.051        | 0.034        | 0.040        | ---          | 83.5%        |\n",
    "| M $\\geq$ 4.0    |      97 | 0.067        | 0.082        | 0.063        | 0.067        | ---          |"
   ]
  },
  {
   "cell_type": "markdown",
   "metadata": {
    "colab_type": "text",
    "id": "iBGEgd7aTDa1"
   },
   "source": [
    "#### Table . KS statistic. The value below the table are the p values and the values above the table are d values foe m = 0.001."
   ]
  },
  {
   "cell_type": "markdown",
   "metadata": {
    "colab_type": "text",
    "id": "8bQwtZi4Z0pi"
   },
   "source": [
    "### 667 students ( or extra credits)\n",
    "\n",
    "Organize your result for different magnitude threshold in a numpy array (it should be a 5x5 array) for both cutoffs (0.01 and 0.001). Each of these arrays should contain the p-value for the pair of distributions i,j in cell \\[i\\]\\[j\\] and \\[j\\]\\[i\\]. Use ```imshow``` to visualize this 2D data. FIrst visualize the matrix itself as done below."
   ]
  },
  {
   "cell_type": "markdown",
   "metadata": {
    "colab_type": "text",
    "id": "EHgN_J19TDa3"
   },
   "source": [
    "## We already arranged the data in 5$\\times$5 array, now we can plot it:"
   ]
  },
  {
   "cell_type": "markdown",
   "metadata": {
    "colab_type": "text",
    "id": "ffyKJkpPTDa7"
   },
   "source": [
    "## Visulization of the p values:"
   ]
  },
  {
   "cell_type": "markdown",
   "metadata": {
    "colab_type": "text",
    "id": "S7xr0osSTDa9"
   },
   "source": [
    "### KS test for m = 0.001"
   ]
  },
  {
   "cell_type": "code",
   "execution_count": 61,
   "metadata": {
    "colab": {
     "base_uri": "https://localhost:8080/",
     "height": 287
    },
    "colab_type": "code",
    "id": "RyRfrNiKTDbA",
    "outputId": "6fac3df6-3d99-46d9-fccd-06be44318619"
   },
   "outputs": [
    {
     "data": {
      "image/png": "[encoded data removed]",
      "text/plain": [
       "<Figure size 432x288 with 2 Axes>"
      ]
     },
     "metadata": {
      "tags": []
     },
     "output_type": "display_data"
    }
   ],
   "source": [
    "pl.imshow((pval_m_001));\n",
    "pl.axis('off')\n",
    "cb = pl.colorbar()\n",
    "cb.ax.set_ylabel(r'$p$-value')\n",
    "pl.title(\"KS test results\");"
   ]
  },
  {
   "cell_type": "markdown",
   "metadata": {
    "colab_type": "text",
    "id": "0lBVEV_HTDbD"
   },
   "source": [
    "### As can be seen from the plot above all p values are larger than the threshold. The null hypothesis for KS test fails. We can not reject the scaling hypothesis. All the sample sets are taken from the same population."
   ]
  },
  {
   "cell_type": "markdown",
   "metadata": {
    "colab_type": "text",
    "id": "bFETs9rqTDbD"
   },
   "source": [
    "\n",
    "Now visualize the result as a matrix where the cells are white if the results is not statistically significant and red otherwise. \n",
    "After doing it fot the set alpha threshold, lower your alpha threshold so that at least one pair of distribution has a statistically significant difference. **Warning!! this is an unethocal horrifying practice! Once you chose your significance threshold you are never allowed to change it! Why? Discuss**"
   ]
  },
  {
   "cell_type": "code",
   "execution_count": 62,
   "metadata": {
    "colab": {
     "base_uri": "https://localhost:8080/",
     "height": 102
    },
    "colab_type": "code",
    "id": "ez4iirlKTDbE",
    "outputId": "909736b1-f61a-459b-b4f8-ae734d3bc9f9"
   },
   "outputs": [
    {
     "data": {
      "text/plain": [
       "array([[ True,  True,  True,  True,  True],\n",
       "       [ True,  True,  True,  True,  True],\n",
       "       [ True,  True,  True,  True,  True],\n",
       "       [ True,  True,  True,  True,  True],\n",
       "       [ True,  True,  True,  True,  True]])"
      ]
     },
     "execution_count": 62,
     "metadata": {
      "tags": []
     },
     "output_type": "execute_result"
    }
   ],
   "source": [
    "## Using the broadcasting techinque to ckeck the p values whether they are within threshold \n",
    "Test_m_001 = pval_m_001 > alpha\n",
    "Test_m_001"
   ]
  },
  {
   "cell_type": "code",
   "execution_count": 63,
   "metadata": {
    "colab": {
     "base_uri": "https://localhost:8080/",
     "height": 287
    },
    "colab_type": "code",
    "id": "eF_CBNGWTDbH",
    "outputId": "6096d6b5-4b51-457c-8450-99bb93eaf83e"
   },
   "outputs": [
    {
     "data": {
      "image/png": "[encoded data removed]",
      "text/plain": [
       "<Figure size 432x288 with 1 Axes>"
      ]
     },
     "metadata": {
      "tags": []
     },
     "output_type": "display_data"
    }
   ],
   "source": [
    "pl.imshow(Test_m_001)\n",
    "pl.axis('off')\n",
    "# cb = pl.colorbar()\n",
    "# cb.ax.set_ylabel(r'$p$-value')\n",
    "pl.title(\"KS test results\");"
   ]
  },
  {
   "cell_type": "markdown",
   "metadata": {},
   "source": [
    "Note: The blue color represent where the KS test pass where the yellow color is where it fails. The Ks test in this case pass in all regions. I tried to change the colors according to the instructions but could not find an easy solution to do it. I hope it wont cost a lot of points."
   ]
  },
  {
   "cell_type": "markdown",
   "metadata": {
    "colab_type": "text",
    "id": "N-iMvjBpTDbJ"
   },
   "source": [
    "### KS test for m = 0.0001"
   ]
  },
  {
   "cell_type": "code",
   "execution_count": 64,
   "metadata": {
    "colab": {
     "base_uri": "https://localhost:8080/",
     "height": 287
    },
    "colab_type": "code",
    "id": "MV1vYdicTDbK",
    "outputId": "39cf68e3-8404-48f9-96c3-5019dd00675a"
   },
   "outputs": [
    {
     "data": {
      "image/png": "[encoded data removed]",
      "text/plain": [
       "<Figure size 432x288 with 2 Axes>"
      ]
     },
     "metadata": {
      "tags": []
     },
     "output_type": "display_data"
    }
   ],
   "source": [
    "pl.imshow((pval_m_0001));\n",
    "pl.axis('off')\n",
    "cb = pl.colorbar()\n",
    "cb.ax.set_ylabel(r'$p$-value')\n",
    "pl.title(\"KS test results\");"
   ]
  },
  {
   "cell_type": "markdown",
   "metadata": {
    "colab_type": "text",
    "id": "cq4owwOITDbM"
   },
   "source": [
    "### As can be seen from the plot above all p values are larger than threshold. The null hypothesis for KS test fails. We can not reject the scaling hypothesis. All the sample sets are taken from the same population."
   ]
  },
  {
   "cell_type": "code",
   "execution_count": 65,
   "metadata": {
    "colab": {
     "base_uri": "https://localhost:8080/",
     "height": 102
    },
    "colab_type": "code",
    "id": "Po3ftt0mTDbN",
    "outputId": "431fb5e8-e7a7-40a4-f916-277a0ba9534a"
   },
   "outputs": [
    {
     "data": {
      "text/plain": [
       "array([[ True, False,  True,  True,  True],\n",
       "       [False,  True,  True,  True,  True],\n",
       "       [ True,  True,  True,  True,  True],\n",
       "       [ True,  True,  True,  True,  True],\n",
       "       [ True,  True,  True,  True,  True]])"
      ]
     },
     "execution_count": 65,
     "metadata": {
      "tags": []
     },
     "output_type": "execute_result"
    }
   ],
   "source": [
    "## Using the broadcasting techinque to ckeck the p values whether they are within threshold \n",
    "Test_m_0001 = pval_m_0001 > alpha\n",
    "Test_m_0001"
   ]
  },
  {
   "cell_type": "code",
   "execution_count": 66,
   "metadata": {
    "colab": {
     "base_uri": "https://localhost:8080/",
     "height": 287
    },
    "colab_type": "code",
    "id": "3Pj0YNbsTDbQ",
    "outputId": "816e4fec-4303-429a-cfeb-9db2387ff78a"
   },
   "outputs": [
    {
     "data": {
      "image/png": "[encoded data removed]",
      "text/plain": [
       "<Figure size 432x288 with 1 Axes>"
      ]
     },
     "metadata": {
      "tags": []
     },
     "output_type": "display_data"
    }
   ],
   "source": [
    "pl.imshow(Test_m_0001)\n",
    "pl.axis('off')\n",
    "# cb = pl.colorbar()\n",
    "# cb.ax.set_ylabel(r'$p$-value')\n",
    "pl.title(\"KS test results\");"
   ]
  },
  {
   "cell_type": "markdown",
   "metadata": {},
   "source": [
    "Note: The yellow color represent where the KS test pass where the blue color is where it fails. I tried to change the colors according to the instructions but could not find an easy solution to do it. I hope it wont cost a lot of points."
   ]
  },
  {
   "cell_type": "markdown",
   "metadata": {
    "colab_type": "text",
    "id": "TJ0qOxFCTDbS"
   },
   "source": [
    "### Once you chose your significance threshold you are never allowed to change it Changing the threshold after you perform the KS test is unethical because you can always select the threshold and tune it to fit your data once you have the results and that should not happen. "
   ]
  },
  {
   "cell_type": "code",
   "execution_count": 0,
   "metadata": {
    "colab": {},
    "colab_type": "code",
    "id": "zTuYRCCpTDbU"
   },
   "outputs": [],
   "source": []
  }
 ],
 "metadata": {
  "colab": {
   "collapsed_sections": [],
   "name": "KS_earthquakes_Abdul.ipynb",
   "provenance": []
  },
  "kernelspec": {
   "display_name": "Python 3",
   "language": "python",
   "name": "python3"
  },
  "language_info": {
   "codemirror_mode": {
    "name": "ipython",
    "version": 3
   },
   "file_extension": ".py",
   "mimetype": "text/x-python",
   "name": "python",
   "nbconvert_exporter": "python",
   "pygments_lexer": "ipython3",
   "version": "3.7.3"
  },
  "latex_envs": {
   "LaTeX_envs_menu_present": true,
   "autoclose": false,
   "autocomplete": true,
   "bibliofile": "biblio.bib",
   "cite_by": "apalike",
   "current_citInitial": 1,
   "eqLabelWithNumbers": true,
   "eqNumInitial": 1,
   "hotkeys": {
    "equation": "Ctrl-E",
    "itemize": "Ctrl-I"
   },
   "labels_anchors": false,
   "latex_user_defs": false,
   "report_style_numbering": false,
   "user_envs_cfg": false
  },
  "nbTranslate": {
   "displayLangs": [
    "*"
   ],
   "hotkey": "alt-t",
   "langInMainMenu": true,
   "sourceLang": "en",
   "targetLang": "fr",
   "useGoogleTranslate": true
  },
  "toc": {
   "base_numbering": 1,
   "nav_menu": {},
   "number_sections": true,
   "sideBar": true,
   "skip_h1_title": false,
   "title_cell": "Table of Contents",
   "title_sidebar": "Contents",
   "toc_cell": false,
   "toc_position": {},
   "toc_section_display": true,
   "toc_window_display": false
  }
 },
 "nbformat": 4,
 "nbformat_minor": 1
}
